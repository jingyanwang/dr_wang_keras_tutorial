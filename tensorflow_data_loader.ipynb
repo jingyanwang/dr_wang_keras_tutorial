{
 "cells": [
  {
   "cell_type": "code",
   "execution_count": 1,
   "id": "679d5578",
   "metadata": {},
   "outputs": [],
   "source": [
    "import tensorflow as tf\n",
    "from tensorflow import keras\n",
    "from tensorflow.keras import layers\n",
    "\n",
    "from tensorflow.data import *\n",
    "\n",
    "import numpy as np"
   ]
  },
  {
   "cell_type": "code",
   "execution_count": 87,
   "id": "d659d150",
   "metadata": {},
   "outputs": [],
   "source": [
    "input_feature_dim = 64\n",
    "class_dim = 2\n",
    "\n",
    "inputs = keras.Input(shape=(input_feature_dim,), name=\"digits\")\n",
    "x = layers.Dense(64, activation=\"relu\", name=\"dense_1\")(inputs)\n",
    "outputs = layers.Dense(\n",
    "    class_dim, \n",
    "    activation=\"sigmoid\", \n",
    "    name=\"predictions\")(x)\n",
    "\n",
    "model = keras.Model(inputs=inputs, outputs=outputs)\n",
    "\n",
    "model.compile(\n",
    "    optimizer=keras.optimizers.RMSprop(),  # Optimizer\n",
    "    # Loss function to minimize\n",
    "    loss=keras.losses.CategoricalCrossentropy(),\n",
    "    # List of metrics to monitor\n",
    "    metrics=[keras.metrics.CategoricalCrossentropy()],\n",
    ")"
   ]
  },
  {
   "cell_type": "code",
   "execution_count": 88,
   "id": "ba143b81",
   "metadata": {
    "scrolled": true
   },
   "outputs": [
    {
     "name": "stdout",
     "output_type": "stream",
     "text": [
      "Model: \"model_6\"\n",
      "_________________________________________________________________\n",
      " Layer (type)                Output Shape              Param #   \n",
      "=================================================================\n",
      " digits (InputLayer)         [(None, 64)]              0         \n",
      "                                                                 \n",
      " dense_1 (Dense)             (None, 64)                4160      \n",
      "                                                                 \n",
      " predictions (Dense)         (None, 2)                 130       \n",
      "                                                                 \n",
      "=================================================================\n",
      "Total params: 4,290\n",
      "Trainable params: 4,290\n",
      "Non-trainable params: 0\n",
      "_________________________________________________________________\n"
     ]
    }
   ],
   "source": [
    "model.summary()"
   ]
  },
  {
   "cell_type": "code",
   "execution_count": 4,
   "id": "b3365234",
   "metadata": {},
   "outputs": [],
   "source": [
    "n = 1000\n",
    "\n",
    "x_train = np.random.rand(n, 784)\n",
    "\n",
    "y_train = np.random.randint(\n",
    "    2,\n",
    "    size = (n, 10),\n",
    "    )"
   ]
  },
  {
   "cell_type": "code",
   "execution_count": 5,
   "id": "3b0dc541",
   "metadata": {},
   "outputs": [
    {
     "data": {
      "text/plain": [
       "(1000, 784)"
      ]
     },
     "execution_count": 5,
     "metadata": {},
     "output_type": "execute_result"
    }
   ],
   "source": [
    "x_train.shape"
   ]
  },
  {
   "cell_type": "code",
   "execution_count": 6,
   "id": "dda8a991",
   "metadata": {},
   "outputs": [],
   "source": [
    "train_dataset = tf.data.Dataset.from_tensor_slices((x_train, y_train))"
   ]
  },
  {
   "cell_type": "code",
   "execution_count": 7,
   "id": "d2b35ebc",
   "metadata": {},
   "outputs": [],
   "source": [
    "train_dataset = train_dataset.shuffle(buffer_size=1024).batch(64)"
   ]
  },
  {
   "cell_type": "code",
   "execution_count": 8,
   "id": "1f51b912",
   "metadata": {},
   "outputs": [
    {
     "data": {
      "text/plain": [
       "<BatchDataset element_spec=(TensorSpec(shape=(None, 784), dtype=tf.float64, name=None), TensorSpec(shape=(None, 10), dtype=tf.int32, name=None))>"
      ]
     },
     "execution_count": 8,
     "metadata": {},
     "output_type": "execute_result"
    }
   ],
   "source": [
    "train_dataset"
   ]
  },
  {
   "cell_type": "markdown",
   "id": "ea0be318",
   "metadata": {},
   "source": [
    "for i in train_dataset:\n",
    "    print(i[0].shape)"
   ]
  },
  {
   "cell_type": "markdown",
   "id": "d3d03877",
   "metadata": {},
   "source": [
    "for i in train_dataset.as_numpy_iterator():\n",
    "    print(i[0].shape)\n",
    "    print(i[1].shape)"
   ]
  },
  {
   "cell_type": "code",
   "execution_count": 11,
   "id": "ccefeda7",
   "metadata": {},
   "outputs": [
    {
     "data": {
      "text/plain": [
       "16"
      ]
     },
     "execution_count": 11,
     "metadata": {},
     "output_type": "execute_result"
    }
   ],
   "source": [
    "train_dataset.cardinality().numpy()"
   ]
  },
  {
   "cell_type": "markdown",
   "id": "57930c15",
   "metadata": {},
   "source": [
    "for e in train_dataset.enumerate(start=0):\n",
    "    try:\n",
    "        print(e[0].numpy(), e[1][0].shape, e[1][1].shape)\n",
    "    except:\n",
    "        pass"
   ]
  },
  {
   "cell_type": "markdown",
   "id": "e55fb80e",
   "metadata": {},
   "source": [
    "https://www.tutorialsteacher.com/python/python-generator#:~:text=Python%20provides%20a%20generator%20to,rather%20than%20a%20return%20statement."
   ]
  },
  {
   "cell_type": "code",
   "execution_count": 93,
   "id": "56937693",
   "metadata": {},
   "outputs": [],
   "source": [
    "x = np.random.rand(100, input_feature_dim)\n",
    "y = np.random.randint(2, size = (100, class_dim))"
   ]
  },
  {
   "cell_type": "code",
   "execution_count": 94,
   "id": "26848cac",
   "metadata": {},
   "outputs": [],
   "source": []
  },
  {
   "cell_type": "code",
   "execution_count": 99,
   "id": "e3aab50d",
   "metadata": {},
   "outputs": [],
   "source": [
    "def gen():\n",
    "    for i in range(100):\n",
    "        yield x[i], y[i]\n",
    "        \n",
    "ds = Dataset.from_generator(\n",
    "    gen,\n",
    "    output_signature=(\n",
    "        tf.TensorSpec(\n",
    "            shape = (input_feature_dim,),\n",
    "            dtype = tf.float32,\n",
    "            ),\n",
    "        tf.TensorSpec(\n",
    "            shape = (class_dim,),\n",
    "            dtype = tf.int8,\n",
    "            ),\n",
    "        )\n",
    "    )"
   ]
  },
  {
   "cell_type": "code",
   "execution_count": 18,
   "id": "8ec197eb",
   "metadata": {},
   "outputs": [],
   "source": [
    "#ds = ds.shuffle(buffer_size=1024).batch(64)"
   ]
  },
  {
   "cell_type": "markdown",
   "id": "af177857",
   "metadata": {},
   "source": [
    "for i in ds:\n",
    "    print(i[0].shape, i[1].shape)"
   ]
  },
  {
   "cell_type": "code",
   "execution_count": 84,
   "id": "f1ca382d",
   "metadata": {},
   "outputs": [
    {
     "data": {
      "text/plain": [
       "<TakeDataset element_spec=(TensorSpec(shape=(64,), dtype=tf.float32, name=None), TensorSpec(shape=(2,), dtype=tf.int8, name=None))>"
      ]
     },
     "execution_count": 84,
     "metadata": {},
     "output_type": "execute_result"
    }
   ],
   "source": [
    "ds.take(1)"
   ]
  },
  {
   "cell_type": "code",
   "execution_count": 96,
   "id": "af0e6a97",
   "metadata": {},
   "outputs": [
    {
     "data": {
      "text/plain": [
       "(100, 64)"
      ]
     },
     "execution_count": 96,
     "metadata": {},
     "output_type": "execute_result"
    }
   ],
   "source": [
    "x.shape"
   ]
  },
  {
   "cell_type": "code",
   "execution_count": 97,
   "id": "168d9438",
   "metadata": {},
   "outputs": [
    {
     "data": {
      "text/plain": [
       "(100, 2)"
      ]
     },
     "execution_count": 97,
     "metadata": {},
     "output_type": "execute_result"
    }
   ],
   "source": [
    "y.shape"
   ]
  },
  {
   "cell_type": "code",
   "execution_count": 98,
   "id": "4f5e3d33",
   "metadata": {},
   "outputs": [
    {
     "name": "stdout",
     "output_type": "stream",
     "text": [
      "Fit model on training data\n",
      "Epoch 1/2\n",
      "2/2 [==============================] - 0s 5ms/step - loss: 0.6288 - categorical_crossentropy: 0.6288\n",
      "Epoch 2/2\n",
      "2/2 [==============================] - 0s 4ms/step - loss: 0.5770 - categorical_crossentropy: 0.5770\n"
     ]
    }
   ],
   "source": [
    "print(\"Fit model on training data\")\n",
    "history = model.fit(\n",
    "    x, y,\n",
    "    batch_size=64,\n",
    "    epochs=2,\n",
    ")"
   ]
  },
  {
   "cell_type": "code",
   "execution_count": 101,
   "id": "c8cd22c9",
   "metadata": {},
   "outputs": [],
   "source": [
    "train_dataset = tf.data.Dataset.from_tensor_slices((x, y))\n",
    "train_dataset = train_dataset.shuffle(buffer_size=1024).batch(64)"
   ]
  },
  {
   "cell_type": "code",
   "execution_count": 103,
   "id": "abe7bfc9",
   "metadata": {},
   "outputs": [
    {
     "name": "stdout",
     "output_type": "stream",
     "text": [
      "Fit model on training data\n",
      "Epoch 1/2\n",
      "2/2 [==============================] - 0s 4ms/step - loss: 0.5518 - categorical_crossentropy: 0.5518\n",
      "Epoch 2/2\n",
      "2/2 [==============================] - 0s 4ms/step - loss: 0.5497 - categorical_crossentropy: 0.5497\n"
     ]
    }
   ],
   "source": [
    "print(\"Fit model on training data\")\n",
    "history = model.fit(\n",
    "    train_dataset,\n",
    "    batch_size=128,\n",
    "    epochs=2,\n",
    ")"
   ]
  },
  {
   "cell_type": "markdown",
   "id": "b6f8f77e",
   "metadata": {},
   "source": [
    "https://www.tensorflow.org/api_docs/python/tf/keras/utils/Sequence"
   ]
  },
  {
   "cell_type": "code",
   "execution_count": 153,
   "id": "8832b01f",
   "metadata": {},
   "outputs": [],
   "source": [
    "from keras.utils import Sequence \n",
    "\n",
    "x = np.random.rand(160, input_feature_dim)\n",
    "y = np.random.randint(2, size = (160, class_dim))\n",
    "\n",
    "class my_sequnce(Sequence):\n",
    "    def __init__(\n",
    "        self, \n",
    "        batch_size,\n",
    "        batch_number,\n",
    "        training = True,\n",
    "        ):\n",
    "        self.batch_size = batch_size\n",
    "        self.batch_number = batch_number\n",
    "        self.training = training\n",
    "\n",
    "    def __len__(self):\n",
    "        return int(self.batch_number)\n",
    "\n",
    "    def __getitem__(self, idx):\n",
    "        batch_x = x[(idx-1)*self.batch_size:idx*self.batch_size]\n",
    "        batch_y = y[(idx-1)*self.batch_size:idx*self.batch_size]\n",
    "        print(f'geting {idx}-th batch')\n",
    "        if self.training is True:\n",
    "            return batch_x, batch_y\n",
    "        else:\n",
    "            return batch_x\n",
    "\n",
    "    \n",
    "    def on_epoch_end(\n",
    "        self,\n",
    "        ):\n",
    "        #print('one epoch completed')\n",
    "        pass"
   ]
  },
  {
   "cell_type": "code",
   "execution_count": 151,
   "id": "ee4ad0d5",
   "metadata": {},
   "outputs": [
    {
     "name": "stdout",
     "output_type": "stream",
     "text": [
      "geting 0-th batch\n",
      "Epoch 1/3\n",
      "geting 1-th batch\n",
      "geting 7-th batch\n",
      " 1/10 [==>...........................] - ETA: 0s - loss: 0.6498 - categorical_crossentropy: 0.6498geting 0-th batch\n",
      "geting 5-th batch\n",
      "geting 3-th batch\n",
      "geting 8-th batch\n",
      "geting 4-th batch\n",
      "geting 9-th batch\n",
      "geting 2-th batch\n",
      "geting 6-th batch\n",
      "10/10 [==============================] - 0s 4ms/step - loss: 0.7344 - categorical_crossentropy: 0.7344\n",
      "Epoch 2/3\n",
      "geting 6-th batch\n",
      "geting 8-th batch\n",
      " 1/10 [==>...........................] - ETA: 0s - loss: 0.6423 - categorical_crossentropy: 0.6423geting 2-th batch\n",
      "geting 1-th batch\n",
      "geting 7-th batch\n",
      "geting 3-th batch\n",
      "geting 0-th batch\n",
      "geting 9-th batch\n",
      "geting 5-th batch\n",
      "geting 4-th batch\n",
      "10/10 [==============================] - 0s 4ms/step - loss: 0.7110 - categorical_crossentropy: 0.7110\n",
      "Epoch 3/3\n",
      "geting 1-th batch\n",
      "geting 7-th batch\n",
      " 1/10 [==>...........................] - ETA: 0s - loss: 0.5824 - categorical_crossentropy: 0.5824geting 0-th batch\n",
      "geting 3-th batch\n",
      "geting 8-th batch\n",
      "geting 6-th batch\n",
      "geting 2-th batch\n",
      "geting 9-th batch\n",
      "geting 4-th batch\n",
      "geting 5-th batch\n",
      "10/10 [==============================] - 0s 4ms/step - loss: 0.6979 - categorical_crossentropy: 0.6979\n"
     ]
    },
    {
     "data": {
      "text/plain": [
       "<keras.callbacks.History at 0x264bcacf7c0>"
      ]
     },
     "execution_count": 151,
     "metadata": {},
     "output_type": "execute_result"
    }
   ],
   "source": [
    "sequence = my_sequnce(16, 10)\n",
    "\n",
    "model.fit(\n",
    "    sequence, \n",
    "    epochs=3,\n",
    "    batch_size=128,\n",
    "    shuffle=True,\n",
    ")"
   ]
  },
  {
   "cell_type": "code",
   "execution_count": 155,
   "id": "934191a0",
   "metadata": {},
   "outputs": [
    {
     "name": "stdout",
     "output_type": "stream",
     "text": [
      "geting 0-th batch\n",
      "geting 0-th batch\n",
      "geting 1-th batch\n",
      " 1/10 [==>...........................] - ETA: 0sgeting 2-th batch\n",
      "geting 3-th batch\n",
      "geting 4-th batch\n",
      "geting 5-th batch\n",
      "geting 6-th batch\n",
      "geting 7-th batch\n",
      "geting 8-th batch\n",
      "geting 9-th batch\n",
      "10/10 [==============================] - 0s 2ms/step\n"
     ]
    }
   ],
   "source": [
    "sequence_test = my_sequnce(16, 10, training= False)\n",
    "\n",
    "score = model.predict(sequence_test)"
   ]
  },
  {
   "cell_type": "code",
   "execution_count": 157,
   "id": "873c4112",
   "metadata": {},
   "outputs": [
    {
     "data": {
      "text/plain": [
       "(144, 2)"
      ]
     },
     "execution_count": 157,
     "metadata": {},
     "output_type": "execute_result"
    }
   ],
   "source": [
    "score.shape"
   ]
  },
  {
   "cell_type": "code",
   "execution_count": null,
   "id": "41379307",
   "metadata": {},
   "outputs": [],
   "source": []
  }
 ],
 "metadata": {
  "kernelspec": {
   "display_name": "Python 3 (ipykernel)",
   "language": "python",
   "name": "python3"
  },
  "language_info": {
   "codemirror_mode": {
    "name": "ipython",
    "version": 3
   },
   "file_extension": ".py",
   "mimetype": "text/x-python",
   "name": "python",
   "nbconvert_exporter": "python",
   "pygments_lexer": "ipython3",
   "version": "3.10.6"
  }
 },
 "nbformat": 4,
 "nbformat_minor": 5
}
