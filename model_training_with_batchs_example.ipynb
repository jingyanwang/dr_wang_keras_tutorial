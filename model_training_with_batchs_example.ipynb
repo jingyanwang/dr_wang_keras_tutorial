{
 "cells": [
  {
   "cell_type": "markdown",
   "id": "38d037b7",
   "metadata": {},
   "source": [
    "https://www.tensorflow.org/api_docs/python/tf/keras/utils/Sequence"
   ]
  },
  {
   "cell_type": "code",
   "execution_count": 168,
   "id": "3dd3998c",
   "metadata": {},
   "outputs": [],
   "source": [
    "import tensorflow as tf\n",
    "from tensorflow import keras\n",
    "from tensorflow.keras import layers\n",
    "from keras.utils import Sequence \n",
    "\n",
    "from tensorflow.data import *\n",
    "\n",
    "import numpy as np"
   ]
  },
  {
   "cell_type": "code",
   "execution_count": 164,
   "id": "6b0f1ee7",
   "metadata": {},
   "outputs": [],
   "source": [
    "batch_number = 100\n",
    "batch_size = 128\n",
    "\n",
    "sample_size = batch_number*batch_size\n",
    "\n",
    "input_feature_dim = 64\n",
    "class_dim = 2"
   ]
  },
  {
   "cell_type": "code",
   "execution_count": 163,
   "id": "90e2d0fc",
   "metadata": {},
   "outputs": [],
   "source": [
    "def build_model():\n",
    "\n",
    "    inputs = keras.Input(shape=(input_feature_dim,), name=\"digits\")\n",
    "    x = layers.Dense(64, activation=\"relu\", name=\"dense_1\")(inputs)\n",
    "    outputs = layers.Dense(\n",
    "        class_dim, \n",
    "        activation=\"sigmoid\", \n",
    "        name=\"predictions\")(x)\n",
    "\n",
    "    model = keras.Model(inputs=inputs, outputs=outputs)\n",
    "\n",
    "    model.compile(\n",
    "        optimizer=keras.optimizers.RMSprop(),  # Optimizer\n",
    "        # Loss function to minimize\n",
    "        loss=keras.losses.CategoricalCrossentropy(),\n",
    "        # List of metrics to monitor\n",
    "        metrics=[keras.metrics.CategoricalCrossentropy()],\n",
    "    )\n",
    "    \n",
    "    return model"
   ]
  },
  {
   "cell_type": "code",
   "execution_count": 194,
   "id": "6b090f55",
   "metadata": {},
   "outputs": [],
   "source": [
    "def features():\n",
    "\n",
    "    inputs = keras.Input(shape=(input_feature_dim,), name=\"digits\")\n",
    "    model = keras.Model(inputs=inputs, outputs=inputs)\n",
    "\n",
    "    model.compile(\n",
    "        optimizer=keras.optimizers.RMSprop(),  # Optimizer\n",
    "        # Loss function to minimize\n",
    "        loss=keras.losses.CategoricalCrossentropy(),\n",
    "        # List of metrics to monitor\n",
    "        metrics=[keras.metrics.CategoricalCrossentropy()],\n",
    "    )\n",
    "    \n",
    "    return model"
   ]
  },
  {
   "cell_type": "markdown",
   "id": "cb6cc3ae",
   "metadata": {},
   "source": [
    "https://www.tutorialsteacher.com/python/python-generator#:~:text=Python%20provides%20a%20generator%20to,rather%20than%20a%20return%20statement."
   ]
  },
  {
   "cell_type": "code",
   "execution_count": 165,
   "id": "a61d7a3f",
   "metadata": {},
   "outputs": [],
   "source": [
    "x = np.random.rand(\n",
    "    sample_size, \n",
    "    input_feature_dim)\n",
    "y = np.random.randint(\n",
    "    class_dim, \n",
    "    size = (sample_size, class_dim),\n",
    "    )"
   ]
  },
  {
   "cell_type": "code",
   "execution_count": 166,
   "id": "b824ec7c",
   "metadata": {},
   "outputs": [
    {
     "data": {
      "text/plain": [
       "(12800, 64)"
      ]
     },
     "execution_count": 166,
     "metadata": {},
     "output_type": "execute_result"
    }
   ],
   "source": [
    "x.shape"
   ]
  },
  {
   "cell_type": "code",
   "execution_count": 167,
   "id": "ebaca15f",
   "metadata": {},
   "outputs": [
    {
     "data": {
      "text/plain": [
       "(12800, 2)"
      ]
     },
     "execution_count": 167,
     "metadata": {},
     "output_type": "execute_result"
    }
   ],
   "source": [
    "y.shape"
   ]
  },
  {
   "cell_type": "markdown",
   "id": "73724317",
   "metadata": {},
   "source": [
    "https://www.tensorflow.org/api_docs/python/tf/keras/utils/Sequence"
   ]
  },
  {
   "cell_type": "code",
   "execution_count": 178,
   "id": "adc8fcbe",
   "metadata": {},
   "outputs": [],
   "source": [
    "class my_sequnce(\n",
    "    Sequence,\n",
    "    ):\n",
    "    \n",
    "    def __init__(\n",
    "        self, \n",
    "        batch_size,\n",
    "        batch_number,\n",
    "        training = True,\n",
    "        ):\n",
    "        self.batch_size = batch_size\n",
    "        self.batch_number = batch_number\n",
    "        self.training = training\n",
    "\n",
    "    def __len__(self):\n",
    "        \n",
    "        return int(self.batch_number)\n",
    "\n",
    "    def __getitem__(self, batch_idx):\n",
    "        \n",
    "        start_idx = batch_idx*self.batch_size\n",
    "        end_idx = start_idx+self.batch_size\n",
    "        \n",
    "        sample_idxs = range(start_idx, end_idx, 1)\n",
    "        \n",
    "        #print(f' {batch_idx}-th batch: {start_idx} , {end_idx}')\n",
    "        \n",
    "        batch_x = x[sample_idxs]\n",
    "        batch_y = y[sample_idxs]\n",
    "        if self.training is True:\n",
    "            return batch_x, batch_y\n",
    "        else:\n",
    "            return batch_x\n",
    "    \n",
    "    def on_epoch_end(\n",
    "        self,\n",
    "        ):\n",
    "        #print('one epoch completed')\n",
    "        pass"
   ]
  },
  {
   "cell_type": "code",
   "execution_count": 184,
   "id": "9cf2c61d",
   "metadata": {},
   "outputs": [
    {
     "name": "stdout",
     "output_type": "stream",
     "text": [
      "Epoch 1/3\n",
      "100/100 [==============================] - 1s 2ms/step - loss: 0.7077 - categorical_crossentropy: 0.7077\n",
      "Epoch 2/3\n",
      "100/100 [==============================] - 0s 2ms/step - loss: 0.6985 - categorical_crossentropy: 0.6985\n",
      "Epoch 3/3\n",
      "100/100 [==============================] - 0s 2ms/step - loss: 0.6963 - categorical_crossentropy: 0.6963\n"
     ]
    },
    {
     "data": {
      "text/plain": [
       "<keras.callbacks.History at 0x264be593880>"
      ]
     },
     "execution_count": 184,
     "metadata": {},
     "output_type": "execute_result"
    }
   ],
   "source": [
    "sequence = my_sequnce(batch_size, batch_number)\n",
    "\n",
    "model = build_model()\n",
    "\n",
    "model.fit(\n",
    "    sequence, \n",
    "    epochs=3,\n",
    "    batch_size=128,\n",
    "    shuffle=True,\n",
    ")"
   ]
  },
  {
   "cell_type": "code",
   "execution_count": 185,
   "id": "24f3225e",
   "metadata": {},
   "outputs": [
    {
     "name": "stdout",
     "output_type": "stream",
     "text": [
      "100/100 [==============================] - 0s 2ms/step - loss: 0.6949 - categorical_crossentropy: 0.6949\n"
     ]
    }
   ],
   "source": [
    "score = model.evaluate(sequence)"
   ]
  },
  {
   "cell_type": "code",
   "execution_count": 186,
   "id": "64a9f0c5",
   "metadata": {},
   "outputs": [
    {
     "name": "stdout",
     "output_type": "stream",
     "text": [
      "100/100 [==============================] - 0s 1ms/step\n"
     ]
    }
   ],
   "source": [
    "sequence_test = my_sequnce(batch_size, batch_number, training = False)\n",
    "\n",
    "score = model.predict(sequence_test)"
   ]
  },
  {
   "cell_type": "code",
   "execution_count": 193,
   "id": "02e44593",
   "metadata": {},
   "outputs": [
    {
     "data": {
      "text/plain": [
       "(12800, 2)"
      ]
     },
     "execution_count": 193,
     "metadata": {},
     "output_type": "execute_result"
    }
   ],
   "source": [
    "score.shape"
   ]
  },
  {
   "cell_type": "code",
   "execution_count": 190,
   "id": "a5b7fd0c",
   "metadata": {},
   "outputs": [
    {
     "data": {
      "text/plain": [
       "100"
      ]
     },
     "execution_count": 190,
     "metadata": {},
     "output_type": "execute_result"
    }
   ],
   "source": [
    "len(sequence_test)"
   ]
  },
  {
   "cell_type": "code",
   "execution_count": 195,
   "id": "34602d2c",
   "metadata": {},
   "outputs": [],
   "source": [
    "features_model = features()"
   ]
  },
  {
   "cell_type": "code",
   "execution_count": 197,
   "id": "de2cfdbf",
   "metadata": {},
   "outputs": [
    {
     "name": "stdout",
     "output_type": "stream",
     "text": [
      "100/100 [==============================] - 0s 1ms/step\n"
     ]
    }
   ],
   "source": [
    "x_test = features_model.predict(sequence_test)"
   ]
  },
  {
   "cell_type": "code",
   "execution_count": 198,
   "id": "443924ac",
   "metadata": {},
   "outputs": [
    {
     "data": {
      "text/plain": [
       "(12800, 64)"
      ]
     },
     "execution_count": 198,
     "metadata": {},
     "output_type": "execute_result"
    }
   ],
   "source": [
    "x_test.shape"
   ]
  },
  {
   "cell_type": "markdown",
   "id": "c222e8a7",
   "metadata": {},
   "source": [
    "# end"
   ]
  }
 ],
 "metadata": {
  "kernelspec": {
   "display_name": "Python 3 (ipykernel)",
   "language": "python",
   "name": "python3"
  },
  "language_info": {
   "codemirror_mode": {
    "name": "ipython",
    "version": 3
   },
   "file_extension": ".py",
   "mimetype": "text/x-python",
   "name": "python",
   "nbconvert_exporter": "python",
   "pygments_lexer": "ipython3",
   "version": "3.10.6"
  }
 },
 "nbformat": 4,
 "nbformat_minor": 5
}
