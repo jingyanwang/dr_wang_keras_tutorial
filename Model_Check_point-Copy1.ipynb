{
 "cells": [
  {
   "cell_type": "code",
   "execution_count": 1,
   "id": "df671b27",
   "metadata": {},
   "outputs": [],
   "source": [
    "import tensorflow as tf"
   ]
  },
  {
   "cell_type": "code",
   "execution_count": 2,
   "id": "4784ace1",
   "metadata": {},
   "outputs": [],
   "source": [
    "from tensorflow.keras import layers"
   ]
  },
  {
   "cell_type": "code",
   "execution_count": 3,
   "id": "0dba921e",
   "metadata": {},
   "outputs": [],
   "source": [
    "from tensorflow import keras"
   ]
  },
  {
   "cell_type": "code",
   "execution_count": 4,
   "id": "898034b7",
   "metadata": {},
   "outputs": [],
   "source": [
    "import numpy as np"
   ]
  },
  {
   "cell_type": "code",
   "execution_count": 5,
   "id": "79cc1314",
   "metadata": {},
   "outputs": [],
   "source": [
    "x = np.random.rand(\n",
    "    7, 10)"
   ]
  },
  {
   "cell_type": "code",
   "execution_count": 6,
   "id": "937a7fa5",
   "metadata": {},
   "outputs": [],
   "source": [
    "y = np.random.randint(\n",
    "    2, size = (7)\n",
    "    )"
   ]
  },
  {
   "cell_type": "code",
   "execution_count": 7,
   "id": "400d520f",
   "metadata": {},
   "outputs": [
    {
     "data": {
      "text/plain": [
       "(7, 10)"
      ]
     },
     "execution_count": 7,
     "metadata": {},
     "output_type": "execute_result"
    }
   ],
   "source": [
    "x.shape"
   ]
  },
  {
   "cell_type": "code",
   "execution_count": 8,
   "id": "ad8e2b50",
   "metadata": {},
   "outputs": [
    {
     "data": {
      "text/plain": [
       "(7,)"
      ]
     },
     "execution_count": 8,
     "metadata": {},
     "output_type": "execute_result"
    }
   ],
   "source": [
    "y.shape"
   ]
  },
  {
   "cell_type": "code",
   "execution_count": 9,
   "id": "b3ab245c",
   "metadata": {},
   "outputs": [],
   "source": [
    "input_layer = layers.Input(shape=(10,))\n",
    "output_layer = layers.Dense(units=1, activation='sigmoid')(input_layer)\n",
    "\n",
    "model = keras.Model(\n",
    "    input_layer,\n",
    "    output_layer,\n",
    "    )"
   ]
  },
  {
   "cell_type": "code",
   "execution_count": 10,
   "id": "132cca6f",
   "metadata": {},
   "outputs": [
    {
     "name": "stdout",
     "output_type": "stream",
     "text": [
      "1/1 [==============================] - 1s 767ms/step\n"
     ]
    }
   ],
   "source": [
    "z = model.predict(x)"
   ]
  },
  {
   "cell_type": "code",
   "execution_count": 11,
   "id": "34281cdf",
   "metadata": {},
   "outputs": [
    {
     "data": {
      "text/plain": [
       "(7, 1)"
      ]
     },
     "execution_count": 11,
     "metadata": {},
     "output_type": "execute_result"
    }
   ],
   "source": [
    "z.shape"
   ]
  },
  {
   "cell_type": "code",
   "execution_count": 12,
   "id": "635c8466",
   "metadata": {},
   "outputs": [],
   "source": [
    "model.compile(\n",
    "    loss = 'binary_crossentropy',\n",
    "    metrics = ['accuracy']\n",
    "    )"
   ]
  },
  {
   "cell_type": "code",
   "execution_count": 13,
   "id": "f1e7c2cc",
   "metadata": {},
   "outputs": [],
   "source": [
    "epochs = 10"
   ]
  },
  {
   "cell_type": "code",
   "execution_count": 14,
   "id": "eb60244e",
   "metadata": {},
   "outputs": [],
   "source": [
    "checkpoint_file_path = 'C:\\\\data\\\\keras\\\\check_point'"
   ]
  },
  {
   "cell_type": "code",
   "execution_count": 25,
   "id": "2a1f7a8c",
   "metadata": {},
   "outputs": [],
   "source": [
    "model_checkpoint_callback = keras.callbacks.ModelCheckpoint(\n",
    "    filepath= checkpoint_file_path,\n",
    "    save_weight_only=True,\n",
    "    monitor = 'val_accuracy',\n",
    "    mode = 'max',\n",
    "    save_best_only = True,\n",
    "    save_freq = 'epoch',\n",
    "    )"
   ]
  },
  {
   "cell_type": "code",
   "execution_count": 26,
   "id": "0716ef3d",
   "metadata": {},
   "outputs": [
    {
     "name": "stdout",
     "output_type": "stream",
     "text": [
      "Epoch 1/10\n",
      "1/1 [==============================] - ETA: 0s - loss: 0.7880 - accuracy: 0.1429WARNING:tensorflow:Can save best model only with val_accuracy available, skipping.\n",
      "1/1 [==============================] - 0s 6ms/step - loss: 0.7880 - accuracy: 0.1429\n",
      "Epoch 2/10\n",
      "1/1 [==============================] - ETA: 0s - loss: 0.7860 - accuracy: 0.1429WARNING:tensorflow:Can save best model only with val_accuracy available, skipping.\n",
      "1/1 [==============================] - 0s 5ms/step - loss: 0.7860 - accuracy: 0.1429\n",
      "Epoch 3/10\n",
      "1/1 [==============================] - ETA: 0s - loss: 0.7840 - accuracy: 0.1429WARNING:tensorflow:Can save best model only with val_accuracy available, skipping.\n",
      "1/1 [==============================] - 0s 4ms/step - loss: 0.7840 - accuracy: 0.1429\n",
      "Epoch 4/10\n",
      "1/1 [==============================] - ETA: 0s - loss: 0.7821 - accuracy: 0.1429WARNING:tensorflow:Can save best model only with val_accuracy available, skipping.\n",
      "1/1 [==============================] - 0s 4ms/step - loss: 0.7821 - accuracy: 0.1429\n",
      "Epoch 5/10\n",
      "1/1 [==============================] - ETA: 0s - loss: 0.7802 - accuracy: 0.2857WARNING:tensorflow:Can save best model only with val_accuracy available, skipping.\n",
      "1/1 [==============================] - 0s 4ms/step - loss: 0.7802 - accuracy: 0.2857\n",
      "Epoch 6/10\n",
      "1/1 [==============================] - ETA: 0s - loss: 0.7784 - accuracy: 0.2857WARNING:tensorflow:Can save best model only with val_accuracy available, skipping.\n",
      "1/1 [==============================] - 0s 4ms/step - loss: 0.7784 - accuracy: 0.2857\n",
      "Epoch 7/10\n",
      "1/1 [==============================] - ETA: 0s - loss: 0.7766 - accuracy: 0.2857WARNING:tensorflow:Can save best model only with val_accuracy available, skipping.\n",
      "1/1 [==============================] - 0s 5ms/step - loss: 0.7766 - accuracy: 0.2857\n",
      "Epoch 8/10\n",
      "1/1 [==============================] - ETA: 0s - loss: 0.7749 - accuracy: 0.2857WARNING:tensorflow:Can save best model only with val_accuracy available, skipping.\n",
      "1/1 [==============================] - 0s 4ms/step - loss: 0.7749 - accuracy: 0.2857\n",
      "Epoch 9/10\n",
      "1/1 [==============================] - ETA: 0s - loss: 0.7731 - accuracy: 0.2857WARNING:tensorflow:Can save best model only with val_accuracy available, skipping.\n",
      "1/1 [==============================] - 0s 3ms/step - loss: 0.7731 - accuracy: 0.2857\n",
      "Epoch 10/10\n",
      "1/1 [==============================] - ETA: 0s - loss: 0.7714 - accuracy: 0.2857WARNING:tensorflow:Can save best model only with val_accuracy available, skipping.\n",
      "1/1 [==============================] - 0s 4ms/step - loss: 0.7714 - accuracy: 0.2857\n"
     ]
    },
    {
     "data": {
      "text/plain": [
       "<keras.callbacks.History at 0x210fcc96230>"
      ]
     },
     "execution_count": 26,
     "metadata": {},
     "output_type": "execute_result"
    }
   ],
   "source": [
    "model.fit(\n",
    "    x,y,\n",
    "    epochs=epochs,\n",
    "    callbacks=[model_checkpoint_callback],\n",
    "    )"
   ]
  },
  {
   "cell_type": "code",
   "execution_count": 17,
   "id": "e696d88d",
   "metadata": {},
   "outputs": [
    {
     "data": {
      "text/plain": [
       "<keras.engine.functional.Functional at 0x20ff93dfc70>"
      ]
     },
     "execution_count": 17,
     "metadata": {},
     "output_type": "execute_result"
    }
   ],
   "source": [
    "model"
   ]
  },
  {
   "cell_type": "code",
   "execution_count": 27,
   "id": "661ccba3",
   "metadata": {
    "scrolled": true
   },
   "outputs": [],
   "source": [
    "checkpoint_status = model.load_weights(checkpoint_file_path)"
   ]
  },
  {
   "cell_type": "code",
   "execution_count": 28,
   "id": "90227a39",
   "metadata": {},
   "outputs": [
    {
     "data": {
      "text/plain": [
       "<tensorflow.python.training.tracking.util.CheckpointLoadStatus at 0x210fcc97070>"
      ]
     },
     "execution_count": 28,
     "metadata": {},
     "output_type": "execute_result"
    }
   ],
   "source": [
    "checkpoint_status"
   ]
  }
 ],
 "metadata": {
  "kernelspec": {
   "display_name": "Python 3 (ipykernel)",
   "language": "python",
   "name": "python3"
  },
  "language_info": {
   "codemirror_mode": {
    "name": "ipython",
    "version": 3
   },
   "file_extension": ".py",
   "mimetype": "text/x-python",
   "name": "python",
   "nbconvert_exporter": "python",
   "pygments_lexer": "ipython3",
   "version": "3.10.6"
  }
 },
 "nbformat": 4,
 "nbformat_minor": 5
}
