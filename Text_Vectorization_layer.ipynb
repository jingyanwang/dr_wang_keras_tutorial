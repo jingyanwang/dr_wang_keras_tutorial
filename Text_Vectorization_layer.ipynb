{
 "cells": [
  {
   "cell_type": "markdown",
   "id": "a4d8404b",
   "metadata": {},
   "source": [
    "https://keras.io/api/metrics/classification_metrics/"
   ]
  },
  {
   "cell_type": "code",
   "execution_count": 97,
   "id": "1c973792",
   "metadata": {},
   "outputs": [],
   "source": [
    "import tensorflow as tf"
   ]
  },
  {
   "cell_type": "code",
   "execution_count": 98,
   "id": "9bcc111b",
   "metadata": {},
   "outputs": [],
   "source": [
    "from tensorflow import keras"
   ]
  },
  {
   "cell_type": "code",
   "execution_count": 99,
   "id": "2e9c4799",
   "metadata": {},
   "outputs": [],
   "source": [
    "import numpy as np"
   ]
  },
  {
   "cell_type": "code",
   "execution_count": 101,
   "id": "7aeb69e6",
   "metadata": {},
   "outputs": [],
   "source": [
    "text_data = tf.data.Dataset.from_tensor_slices([\n",
    "    'foo',\n",
    "    'bar',\n",
    "    'baz',\n",
    "])"
   ]
  },
  {
   "cell_type": "code",
   "execution_count": 103,
   "id": "4c014648",
   "metadata": {},
   "outputs": [],
   "source": [
    "max_features = 5000\n",
    "max_len = 4"
   ]
  },
  {
   "cell_type": "code",
   "execution_count": 105,
   "id": "bc9669ae",
   "metadata": {},
   "outputs": [],
   "source": [
    "vectorize_layer = tf.keras.layers.TextVectorization(\n",
    "    max_tokens=max_features,\n",
    "    output_mode='int',\n",
    "    output_sequence_length= max_len\n",
    ")"
   ]
  },
  {
   "cell_type": "code",
   "execution_count": 106,
   "id": "c1e688e7",
   "metadata": {},
   "outputs": [],
   "source": [
    "vectorize_layer.adapt(text_data.batch(64))"
   ]
  },
  {
   "cell_type": "code",
   "execution_count": 108,
   "id": "8a6f9782",
   "metadata": {},
   "outputs": [
    {
     "data": {
      "text/plain": [
       "{'name': 'text_vectorization',\n",
       " 'trainable': True,\n",
       " 'batch_input_shape': (None,),\n",
       " 'dtype': 'string',\n",
       " 'max_tokens': 500,\n",
       " 'standardize': 'lower_and_strip_punctuation',\n",
       " 'split': 'whitespace',\n",
       " 'ngrams': None,\n",
       " 'output_mode': 'int',\n",
       " 'output_sequence_length': 4,\n",
       " 'pad_to_max_tokens': False,\n",
       " 'sparse': False,\n",
       " 'ragged': False,\n",
       " 'vocabulary': None,\n",
       " 'idf_weights': None}"
      ]
     },
     "execution_count": 108,
     "metadata": {},
     "output_type": "execute_result"
    }
   ],
   "source": [
    "vectorize_layer.get_config()"
   ]
  },
  {
   "cell_type": "code",
   "execution_count": 109,
   "id": "d1f11cd5",
   "metadata": {},
   "outputs": [],
   "source": [
    "model = tf.keras.models.Sequential()"
   ]
  },
  {
   "cell_type": "code",
   "execution_count": 110,
   "id": "05c1e6bf",
   "metadata": {},
   "outputs": [],
   "source": [
    "model.add(\n",
    "    tf.keras.Input(shape=(1,), dtype = tf.string)\n",
    "    )"
   ]
  },
  {
   "cell_type": "code",
   "execution_count": 111,
   "id": "bd48f437",
   "metadata": {},
   "outputs": [],
   "source": [
    "model.add(\n",
    "    vectorize_layer,\n",
    "    )"
   ]
  },
  {
   "cell_type": "code",
   "execution_count": 90,
   "id": "f535cf62",
   "metadata": {},
   "outputs": [],
   "source": [
    "model = tf.keras.Model(\n",
    "    inputs = input_layer,\n",
    "    outputs = repeat_vector_layer,    \n",
    ")"
   ]
  },
  {
   "cell_type": "code",
   "execution_count": 112,
   "id": "5a93027a",
   "metadata": {},
   "outputs": [],
   "source": [
    "input_data = np.array(\n",
    "    [\n",
    "        ['foo qux bar'],\n",
    "        ['qux baz']\n",
    "    ]\n",
    ")"
   ]
  },
  {
   "cell_type": "code",
   "execution_count": 113,
   "id": "35397fd4",
   "metadata": {},
   "outputs": [
    {
     "name": "stdout",
     "output_type": "stream",
     "text": [
      "1/1 [==============================] - 0s 95ms/step\n"
     ]
    }
   ],
   "source": [
    "y = model.predict(input_data)"
   ]
  },
  {
   "cell_type": "code",
   "execution_count": 115,
   "id": "004da2cf",
   "metadata": {},
   "outputs": [],
   "source": [
    "vocab_data = [\n",
    "    'earth',\n",
    "    'wind',\n",
    "    'and',\n",
    "    'fire',\n",
    "]"
   ]
  },
  {
   "cell_type": "code",
   "execution_count": 116,
   "id": "387ba722",
   "metadata": {},
   "outputs": [],
   "source": [
    "max_len = 4"
   ]
  },
  {
   "cell_type": "code",
   "execution_count": 119,
   "id": "416470ca",
   "metadata": {},
   "outputs": [],
   "source": [
    "vectorize_layer = tf.keras.layers.TextVectorization(\n",
    "    max_tokens=max_features,\n",
    "    output_mode='int',\n",
    "    output_sequence_length=max_len,\n",
    "    vocabulary=vocab_data,\n",
    ")"
   ]
  },
  {
   "cell_type": "code",
   "execution_count": 122,
   "id": "19341a87",
   "metadata": {},
   "outputs": [
    {
     "data": {
      "text/plain": [
       "['', '[UNK]', 'earth', 'wind', 'and', 'fire']"
      ]
     },
     "execution_count": 122,
     "metadata": {},
     "output_type": "execute_result"
    }
   ],
   "source": [
    "vectorize_layer.get_vocabulary()"
   ]
  },
  {
   "cell_type": "markdown",
   "id": "e61f3aba",
   "metadata": {},
   "source": [
    "# end"
   ]
  }
 ],
 "metadata": {
  "kernelspec": {
   "display_name": "Python 3 (ipykernel)",
   "language": "python",
   "name": "python3"
  },
  "language_info": {
   "codemirror_mode": {
    "name": "ipython",
    "version": 3
   },
   "file_extension": ".py",
   "mimetype": "text/x-python",
   "name": "python",
   "nbconvert_exporter": "python",
   "pygments_lexer": "ipython3",
   "version": "3.10.6"
  }
 },
 "nbformat": 4,
 "nbformat_minor": 5
}
