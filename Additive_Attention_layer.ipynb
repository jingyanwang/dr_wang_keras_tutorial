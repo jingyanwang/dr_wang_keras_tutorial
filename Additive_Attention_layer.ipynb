{
 "cells": [
  {
   "cell_type": "markdown",
   "id": "a4d8404b",
   "metadata": {},
   "source": [
    "https://keras.io/api/layers/attention_layers/additive_attention/"
   ]
  },
  {
   "cell_type": "code",
   "execution_count": 1,
   "id": "1c973792",
   "metadata": {},
   "outputs": [],
   "source": [
    "import tensorflow as tf"
   ]
  },
  {
   "cell_type": "code",
   "execution_count": 2,
   "id": "9bcc111b",
   "metadata": {},
   "outputs": [],
   "source": [
    "from tensorflow import keras"
   ]
  },
  {
   "cell_type": "code",
   "execution_count": 3,
   "id": "bd48f437",
   "metadata": {},
   "outputs": [],
   "source": [
    "query_input = tf.keras.layers.Input(\n",
    "    shape = (100,),\n",
    "    dtype = 'int32',\n",
    "    )"
   ]
  },
  {
   "cell_type": "code",
   "execution_count": 4,
   "id": "94350eb2",
   "metadata": {},
   "outputs": [],
   "source": [
    "value_input = tf.keras.layers.Input(\n",
    "    shape = (100,),\n",
    "    dtype = 'int32',\n",
    "    )"
   ]
  },
  {
   "cell_type": "code",
   "execution_count": 5,
   "id": "6fa057a9",
   "metadata": {},
   "outputs": [],
   "source": [
    "token_embedding = tf.keras.layers.Embedding(\n",
    "    input_dim = 10000,\n",
    "    output_dim = 20,\n",
    "    )"
   ]
  },
  {
   "cell_type": "code",
   "execution_count": 6,
   "id": "b4015899",
   "metadata": {},
   "outputs": [],
   "source": [
    "query_embeddings = token_embedding(\n",
    "    query_input,\n",
    "    )"
   ]
  },
  {
   "cell_type": "code",
   "execution_count": 7,
   "id": "1eb347e1",
   "metadata": {},
   "outputs": [],
   "source": [
    "value_embeddings = token_embedding(\n",
    "    value_input,\n",
    "    )"
   ]
  },
  {
   "cell_type": "markdown",
   "id": "d004d78d",
   "metadata": {},
   "source": [
    "# attention layer"
   ]
  },
  {
   "cell_type": "code",
   "execution_count": 8,
   "id": "0285daa5",
   "metadata": {},
   "outputs": [],
   "source": [
    "query_value_attention_seq = tf.keras.layers.AdditiveAttention()(\n",
    "    [\n",
    "        query_embeddings,\n",
    "        value_embeddings,        \n",
    "    ]\n",
    "    )"
   ]
  },
  {
   "cell_type": "code",
   "execution_count": 9,
   "id": "67ca373f",
   "metadata": {},
   "outputs": [
    {
     "data": {
      "text/plain": [
       "<KerasTensor: shape=(None, 100, 20) dtype=float32 (created by layer 'additive_attention')>"
      ]
     },
     "execution_count": 9,
     "metadata": {},
     "output_type": "execute_result"
    }
   ],
   "source": [
    "query_value_attention_seq"
   ]
  },
  {
   "cell_type": "code",
   "execution_count": 10,
   "id": "73f1ebd5",
   "metadata": {},
   "outputs": [],
   "source": [
    "output_layer = tf.keras.layers.Concatenate()(\n",
    "    [\n",
    "        query_embeddings,\n",
    "        query_value_attention_seq,\n",
    "    ]\n",
    "    )"
   ]
  },
  {
   "cell_type": "code",
   "execution_count": 11,
   "id": "387ba722",
   "metadata": {},
   "outputs": [],
   "source": [
    "model = tf.keras.Model(\n",
    "    inputs = [\n",
    "        query_input,\n",
    "        value_input,\n",
    "    ],\n",
    "    outputs = output_layer,\n",
    "    )"
   ]
  },
  {
   "cell_type": "code",
   "execution_count": 12,
   "id": "416470ca",
   "metadata": {},
   "outputs": [
    {
     "name": "stdout",
     "output_type": "stream",
     "text": [
      "Model: \"model\"\n",
      "__________________________________________________________________________________________________\n",
      " Layer (type)                   Output Shape         Param #     Connected to                     \n",
      "==================================================================================================\n",
      " input_1 (InputLayer)           [(None, 100)]        0           []                               \n",
      "                                                                                                  \n",
      " input_2 (InputLayer)           [(None, 100)]        0           []                               \n",
      "                                                                                                  \n",
      " embedding (Embedding)          (None, 100, 20)      200000      ['input_1[0][0]',                \n",
      "                                                                  'input_2[0][0]']                \n",
      "                                                                                                  \n",
      " additive_attention (AdditiveAt  (None, 100, 20)     20          ['embedding[0][0]',              \n",
      " tention)                                                         'embedding[1][0]']              \n",
      "                                                                                                  \n",
      " concatenate (Concatenate)      (None, 100, 40)      0           ['embedding[0][0]',              \n",
      "                                                                  'additive_attention[0][0]']     \n",
      "                                                                                                  \n",
      "==================================================================================================\n",
      "Total params: 200,020\n",
      "Trainable params: 200,020\n",
      "Non-trainable params: 0\n",
      "__________________________________________________________________________________________________\n"
     ]
    }
   ],
   "source": [
    "model.summary()"
   ]
  },
  {
   "cell_type": "markdown",
   "id": "920b68b7",
   "metadata": {},
   "source": [
    "# test with dat"
   ]
  },
  {
   "cell_type": "code",
   "execution_count": 13,
   "id": "2321fac4",
   "metadata": {},
   "outputs": [],
   "source": [
    "import numpy as np"
   ]
  },
  {
   "cell_type": "code",
   "execution_count": 14,
   "id": "cc4a7504",
   "metadata": {},
   "outputs": [
    {
     "data": {
      "text/plain": [
       "[<KerasTensor: shape=(None, 100) dtype=int32 (created by layer 'input_1')>,\n",
       " <KerasTensor: shape=(None, 100) dtype=int32 (created by layer 'input_2')>]"
      ]
     },
     "execution_count": 14,
     "metadata": {},
     "output_type": "execute_result"
    }
   ],
   "source": [
    "model.inputs"
   ]
  },
  {
   "cell_type": "code",
   "execution_count": 15,
   "id": "514a14fe",
   "metadata": {},
   "outputs": [
    {
     "data": {
      "text/plain": [
       "(138, 100)"
      ]
     },
     "execution_count": 15,
     "metadata": {},
     "output_type": "execute_result"
    }
   ],
   "source": [
    "query_x = np.random.rand(\n",
    "    138, 100\n",
    "    )\n",
    "query_x.shape"
   ]
  },
  {
   "cell_type": "code",
   "execution_count": 16,
   "id": "3acd74cd",
   "metadata": {},
   "outputs": [
    {
     "data": {
      "text/plain": [
       "(138, 100)"
      ]
     },
     "execution_count": 16,
     "metadata": {},
     "output_type": "execute_result"
    }
   ],
   "source": [
    "value_x = np.random.rand(\n",
    "    138, 100\n",
    "    )\n",
    "value_x.shape"
   ]
  },
  {
   "cell_type": "code",
   "execution_count": 17,
   "id": "87304bbf",
   "metadata": {},
   "outputs": [],
   "source": [
    "x = [\n",
    "    query_x,\n",
    "    value_x,\n",
    "]"
   ]
  },
  {
   "cell_type": "code",
   "execution_count": 18,
   "id": "1a086615",
   "metadata": {},
   "outputs": [
    {
     "name": "stdout",
     "output_type": "stream",
     "text": [
      "5/5 [==============================] - 1s 8ms/step\n"
     ]
    }
   ],
   "source": [
    "y = model.predict(x)"
   ]
  },
  {
   "cell_type": "code",
   "execution_count": 19,
   "id": "4320171b",
   "metadata": {},
   "outputs": [
    {
     "data": {
      "text/plain": [
       "(100, 40)"
      ]
     },
     "execution_count": 19,
     "metadata": {},
     "output_type": "execute_result"
    }
   ],
   "source": [
    "y[0].shape"
   ]
  },
  {
   "cell_type": "code",
   "execution_count": 20,
   "id": "525c82ef",
   "metadata": {},
   "outputs": [
    {
     "data": {
      "text/plain": [
       "(100, 40)"
      ]
     },
     "execution_count": 20,
     "metadata": {},
     "output_type": "execute_result"
    }
   ],
   "source": [
    "y[1].shape"
   ]
  },
  {
   "cell_type": "code",
   "execution_count": 21,
   "id": "c36f1331",
   "metadata": {},
   "outputs": [
    {
     "data": {
      "text/plain": [
       "array([ 0.04045716,  0.0343726 ,  0.01133993,  0.02722334,  0.01381728,\n",
       "        0.00960364,  0.01077826,  0.03809568,  0.02761099,  0.04245938,\n",
       "       -0.02111628, -0.00386981,  0.03077605, -0.04683714, -0.01664792,\n",
       "        0.02786559,  0.0355078 , -0.01177136,  0.01471904,  0.00146531,\n",
       "        0.04047493,  0.03437011,  0.01133969,  0.02722749,  0.01381977,\n",
       "        0.00960745,  0.01078263,  0.03809407,  0.02762427,  0.042459  ,\n",
       "       -0.02112268, -0.00387083,  0.0307835 , -0.04685447, -0.01665088,\n",
       "        0.02786847,  0.03553004, -0.01177467,  0.01472022,  0.00146516],\n",
       "      dtype=float32)"
      ]
     },
     "execution_count": 21,
     "metadata": {},
     "output_type": "execute_result"
    }
   ],
   "source": [
    "y[1][0]"
   ]
  },
  {
   "cell_type": "markdown",
   "id": "c3ef4ece",
   "metadata": {},
   "source": [
    "# end"
   ]
  }
 ],
 "metadata": {
  "kernelspec": {
   "display_name": "Python 3 (ipykernel)",
   "language": "python",
   "name": "python3"
  },
  "language_info": {
   "codemirror_mode": {
    "name": "ipython",
    "version": 3
   },
   "file_extension": ".py",
   "mimetype": "text/x-python",
   "name": "python",
   "nbconvert_exporter": "python",
   "pygments_lexer": "ipython3",
   "version": "3.10.6"
  }
 },
 "nbformat": 4,
 "nbformat_minor": 5
}
