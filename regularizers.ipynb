{
 "cells": [
  {
   "cell_type": "markdown",
   "id": "588ce618",
   "metadata": {},
   "source": [
    "https://keras.io/api/layers/regularizers/"
   ]
  },
  {
   "cell_type": "code",
   "execution_count": 1,
   "id": "bdc5959d",
   "metadata": {},
   "outputs": [],
   "source": [
    "from tensorflow.keras import layers"
   ]
  },
  {
   "cell_type": "code",
   "execution_count": 2,
   "id": "fde64757",
   "metadata": {},
   "outputs": [],
   "source": [
    "from tensorflow.keras import regularizers"
   ]
  },
  {
   "cell_type": "code",
   "execution_count": 3,
   "id": "22adea0c",
   "metadata": {},
   "outputs": [],
   "source": [
    "import tensorflow as tf"
   ]
  },
  {
   "cell_type": "code",
   "execution_count": 4,
   "id": "e3111930",
   "metadata": {},
   "outputs": [],
   "source": [
    "layer = layers.Dense(\n",
    "    units = 1,\n",
    "    kernel_initializer='ones',\n",
    "    kernel_regularizer=regularizers.L2(1),\n",
    "    #kernel_regularizer=regularizers.L1L2(l1=1e-5, l2=1e-4),\n",
    "    #bias_regularizer=regularizers.L2(100),\n",
    "    #activity_regularizer=regularizers.L2(1e-5),\n",
    "    )"
   ]
  },
  {
   "cell_type": "code",
   "execution_count": 5,
   "id": "2fcb94b6",
   "metadata": {},
   "outputs": [],
   "source": [
    "layer = layers.Dense(\n",
    "    units = 1,\n",
    "    kernel_initializer='ones',\n",
    "    kernel_regularizer=regularizers.OrthogonalRegularizer(\n",
    "        factor = 0.01),\n",
    "    #kernel_regularizer=regularizers.L1L2(l1=1e-5, l2=1e-4),\n",
    "    #bias_regularizer=regularizers.L2(100),\n",
    "    #activity_regularizer=regularizers.L2(1e-5),\n",
    "    )"
   ]
  },
  {
   "cell_type": "code",
   "execution_count": 6,
   "id": "3255ee7c",
   "metadata": {},
   "outputs": [],
   "source": [
    "import numpy as np"
   ]
  },
  {
   "cell_type": "code",
   "execution_count": 7,
   "id": "5f6b69ae",
   "metadata": {},
   "outputs": [],
   "source": [
    "x = tf.ones(shape = (1, 2))"
   ]
  },
  {
   "cell_type": "code",
   "execution_count": 8,
   "id": "58a744d2",
   "metadata": {},
   "outputs": [],
   "source": [
    "y = layer(x)"
   ]
  },
  {
   "cell_type": "code",
   "execution_count": 9,
   "id": "35b1cd12",
   "metadata": {},
   "outputs": [
    {
     "data": {
      "text/plain": [
       "[<tf.Tensor: shape=(), dtype=float32, numpy=0.01>]"
      ]
     },
     "execution_count": 9,
     "metadata": {},
     "output_type": "execute_result"
    }
   ],
   "source": [
    "layer.losses"
   ]
  },
  {
   "cell_type": "code",
   "execution_count": 10,
   "id": "701b5a5c",
   "metadata": {},
   "outputs": [
    {
     "data": {
      "text/plain": [
       "<tf.Tensor: shape=(1, 2), dtype=float32, numpy=array([[1., 1.]], dtype=float32)>"
      ]
     },
     "execution_count": 10,
     "metadata": {},
     "output_type": "execute_result"
    }
   ],
   "source": [
    "x"
   ]
  },
  {
   "cell_type": "code",
   "execution_count": 11,
   "id": "f3699caf",
   "metadata": {},
   "outputs": [
    {
     "data": {
      "text/plain": [
       "<tf.Tensor: shape=(), dtype=float32, numpy=2.0>"
      ]
     },
     "execution_count": 11,
     "metadata": {},
     "output_type": "execute_result"
    }
   ],
   "source": [
    "tf.math.reduce_sum(x)"
   ]
  },
  {
   "cell_type": "code",
   "execution_count": 13,
   "id": "75063246",
   "metadata": {},
   "outputs": [],
   "source": [
    "from tensorflow.math import *"
   ]
  },
  {
   "cell_type": "code",
   "execution_count": 19,
   "id": "5ff7eaa9",
   "metadata": {},
   "outputs": [],
   "source": [
    "x = np.array([[1,2]])"
   ]
  },
  {
   "cell_type": "code",
   "execution_count": 20,
   "id": "6bd02efd",
   "metadata": {},
   "outputs": [
    {
     "data": {
      "text/plain": [
       "<tf.Tensor: shape=(1, 2), dtype=int32, numpy=array([[1, 4]])>"
      ]
     },
     "execution_count": 20,
     "metadata": {},
     "output_type": "execute_result"
    }
   ],
   "source": [
    "tf.square(x)"
   ]
  },
  {
   "cell_type": "code",
   "execution_count": 21,
   "id": "525c2c46",
   "metadata": {},
   "outputs": [
    {
     "data": {
      "text/plain": [
       "<tf.Tensor: shape=(), dtype=int32, numpy=5>"
      ]
     },
     "execution_count": 21,
     "metadata": {},
     "output_type": "execute_result"
    }
   ],
   "source": [
    "tf.reduce_sum(tf.square(x))"
   ]
  }
 ],
 "metadata": {
  "kernelspec": {
   "display_name": "Python 3 (ipykernel)",
   "language": "python",
   "name": "python3"
  },
  "language_info": {
   "codemirror_mode": {
    "name": "ipython",
    "version": 3
   },
   "file_extension": ".py",
   "mimetype": "text/x-python",
   "name": "python",
   "nbconvert_exporter": "python",
   "pygments_lexer": "ipython3",
   "version": "3.10.6"
  }
 },
 "nbformat": 4,
 "nbformat_minor": 5
}
