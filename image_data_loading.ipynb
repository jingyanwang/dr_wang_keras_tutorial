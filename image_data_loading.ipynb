{
 "cells": [
  {
   "cell_type": "markdown",
   "id": "44ba7a0d",
   "metadata": {},
   "source": [
    "# image\n",
    "\n",
    "https://keras.io/api/data_loading/image/"
   ]
  },
  {
   "cell_type": "code",
   "execution_count": 1,
   "id": "b01d3696",
   "metadata": {},
   "outputs": [],
   "source": [
    "from tensorflow import keras"
   ]
  },
  {
   "cell_type": "code",
   "execution_count": 2,
   "id": "456c7ff5",
   "metadata": {},
   "outputs": [],
   "source": [
    "from tensorflow.keras.utils import *"
   ]
  },
  {
   "cell_type": "code",
   "execution_count": 10,
   "id": "ef2227bf",
   "metadata": {},
   "outputs": [
    {
     "name": "stdout",
     "output_type": "stream",
     "text": [
      "Found 4 files belonging to 2 classes.\n"
     ]
    }
   ],
   "source": [
    "ds = image_dataset_from_directory(\n",
    "    directory='training_data/',\n",
    "    labels='inferred',\n",
    "    label_mode='categorical',\n",
    "    batch_size = 2,\n",
    "    image_size = (256,256),\n",
    "    )"
   ]
  },
  {
   "cell_type": "code",
   "execution_count": 11,
   "id": "cd26b3eb",
   "metadata": {},
   "outputs": [
    {
     "name": "stdout",
     "output_type": "stream",
     "text": [
      "(2, 256, 256, 3) (2, 2)\n",
      "(2, 256, 256, 3) (2, 2)\n"
     ]
    }
   ],
   "source": [
    "for i in ds:\n",
    "    print(i[0].shape, i[1].shape)"
   ]
  },
  {
   "cell_type": "code",
   "execution_count": 13,
   "id": "29425e6e",
   "metadata": {},
   "outputs": [
    {
     "data": {
      "text/plain": [
       "<tf.Tensor: shape=(2, 2), dtype=float32, numpy=\n",
       "array([[1., 0.],\n",
       "       [0., 1.]], dtype=float32)>"
      ]
     },
     "execution_count": 13,
     "metadata": {},
     "output_type": "execute_result"
    }
   ],
   "source": [
    "i[1]"
   ]
  }
 ],
 "metadata": {
  "kernelspec": {
   "display_name": "Python 3 (ipykernel)",
   "language": "python",
   "name": "python3"
  },
  "language_info": {
   "codemirror_mode": {
    "name": "ipython",
    "version": 3
   },
   "file_extension": ".py",
   "mimetype": "text/x-python",
   "name": "python",
   "nbconvert_exporter": "python",
   "pygments_lexer": "ipython3",
   "version": "3.10.6"
  }
 },
 "nbformat": 4,
 "nbformat_minor": 5
}
