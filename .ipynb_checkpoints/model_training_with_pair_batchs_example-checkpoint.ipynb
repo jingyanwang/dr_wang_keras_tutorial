{
 "cells": [
  {
   "cell_type": "markdown",
   "id": "9a0f4257",
   "metadata": {},
   "source": [
    "https://www.tensorflow.org/api_docs/python/tf/keras/utils/Sequence"
   ]
  },
  {
   "cell_type": "code",
   "execution_count": 33,
   "id": "b5e7d51d",
   "metadata": {},
   "outputs": [],
   "source": [
    "import tensorflow as tf\n",
    "from tensorflow import keras\n",
    "from tensorflow.keras import layers\n",
    "from keras.utils import * \n",
    "\n",
    "from tensorflow.data import *\n",
    "\n",
    "import numpy as np"
   ]
  },
  {
   "cell_type": "code",
   "execution_count": 21,
   "id": "8161de09",
   "metadata": {},
   "outputs": [],
   "source": [
    "user_number = 170\n",
    "user_dim = 128\n",
    "\n",
    "product_number = 52\n",
    "product_dim = 64\n",
    "\n",
    "class_dim = 2"
   ]
  },
  {
   "cell_type": "code",
   "execution_count": 150,
   "id": "63165f84",
   "metadata": {},
   "outputs": [],
   "source": [
    "user_feature = np.random.rand(\n",
    "    user_number,\n",
    "    user_dim\n",
    "    )\n",
    "\n",
    "product_feature = np.random.rand(\n",
    "    product_number,\n",
    "    product_dim\n",
    "    )\n",
    "\n",
    "user_product_pair_idx = np.array([\n",
    "    [u_id, p_id]\n",
    "    for p_id in range(product_number)\n",
    "    for u_id in range(user_number)\n",
    "    ])\n",
    "\n",
    "user_product_pair_label = np.random.randint(\n",
    "    class_dim,\n",
    "    size = (len(user_product_pair), )\n",
    "    )\n",
    "#user_product_label = to_categorical(user_product_label)"
   ]
  },
  {
   "cell_type": "code",
   "execution_count": 62,
   "id": "720fd755",
   "metadata": {},
   "outputs": [
    {
     "data": {
      "text/plain": [
       "array([ 0,  0,  0, ..., 51, 51, 51])"
      ]
     },
     "execution_count": 62,
     "metadata": {},
     "output_type": "execute_result"
    }
   ],
   "source": []
  },
  {
   "cell_type": "code",
   "execution_count": 185,
   "id": "59f876b5",
   "metadata": {},
   "outputs": [],
   "source": [
    "%run pair_sequnce.ipynb"
   ]
  },
  {
   "cell_type": "code",
   "execution_count": 151,
   "id": "03b5c09d",
   "metadata": {},
   "outputs": [],
   "source": [
    "x_user = user_feature[user_product_pair_idx[:,0]]\n",
    "x_product = product_feature[user_product_pair_idx[:,1]]\n",
    "x = [x_user, x_product]\n",
    "\n",
    "y = user_product_pair_label #np.expand_dims(user_product_label, axis = 1)"
   ]
  },
  {
   "cell_type": "code",
   "execution_count": 137,
   "id": "0f89b535",
   "metadata": {},
   "outputs": [
    {
     "data": {
      "text/plain": [
       "(8840, 1)"
      ]
     },
     "execution_count": 137,
     "metadata": {},
     "output_type": "execute_result"
    }
   ],
   "source": [
    "y.shape"
   ]
  },
  {
   "cell_type": "code",
   "execution_count": 138,
   "id": "301f3e09",
   "metadata": {},
   "outputs": [
    {
     "data": {
      "text/plain": [
       "(8840, 64)"
      ]
     },
     "execution_count": 138,
     "metadata": {},
     "output_type": "execute_result"
    }
   ],
   "source": [
    "x_product.shape"
   ]
  },
  {
   "cell_type": "code",
   "execution_count": 141,
   "id": "5e134ee0",
   "metadata": {},
   "outputs": [
    {
     "name": "stdout",
     "output_type": "stream",
     "text": [
      "Model: \"model_15\"\n",
      "__________________________________________________________________________________________________\n",
      " Layer (type)                   Output Shape         Param #     Connected to                     \n",
      "==================================================================================================\n",
      " user (InputLayer)              [(None, 128)]        0           []                               \n",
      "                                                                                                  \n",
      " product (InputLayer)           [(None, 64)]         0           []                               \n",
      "                                                                                                  \n",
      " dense_34 (Dense)               (None, 64)           8256        ['user[0][0]']                   \n",
      "                                                                                                  \n",
      " dense_35 (Dense)               (None, 64)           4160        ['product[0][0]']                \n",
      "                                                                                                  \n",
      " dot_15 (Dot)                   (None, 1)            0           ['dense_34[0][0]',               \n",
      "                                                                  'dense_35[0][0]']               \n",
      "                                                                                                  \n",
      " activation (Activation)        (None, 1)            0           ['dot_15[0][0]']                 \n",
      "                                                                                                  \n",
      "==================================================================================================\n",
      "Total params: 12,416\n",
      "Trainable params: 12,416\n",
      "Non-trainable params: 0\n",
      "__________________________________________________________________________________________________\n"
     ]
    }
   ],
   "source": [
    "model1 = build_pair_model()\n",
    "\n",
    "model1.summary()"
   ]
  },
  {
   "cell_type": "code",
   "execution_count": 144,
   "id": "696a832b",
   "metadata": {},
   "outputs": [
    {
     "name": "stdout",
     "output_type": "stream",
     "text": [
      "277/277 [==============================] - 2s 4ms/step - loss: 0.6929 - auc_3: 0.5170\n"
     ]
    },
    {
     "data": {
      "text/plain": [
       "<keras.callbacks.History at 0x1d2324e7f10>"
      ]
     },
     "execution_count": 144,
     "metadata": {},
     "output_type": "execute_result"
    }
   ],
   "source": [
    "model1.fit(x, y)"
   ]
  },
  {
   "cell_type": "code",
   "execution_count": 145,
   "id": "859cf551",
   "metadata": {},
   "outputs": [
    {
     "name": "stdout",
     "output_type": "stream",
     "text": [
      "277/277 [==============================] - 0s 906us/step\n"
     ]
    }
   ],
   "source": [
    "score = model1.predict(x)"
   ]
  },
  {
   "cell_type": "code",
   "execution_count": 146,
   "id": "9173e61a",
   "metadata": {},
   "outputs": [
    {
     "data": {
      "text/plain": [
       "(8840, 1)"
      ]
     },
     "execution_count": 146,
     "metadata": {},
     "output_type": "execute_result"
    }
   ],
   "source": [
    "score.shape"
   ]
  },
  {
   "cell_type": "markdown",
   "id": "1fcdb34c",
   "metadata": {},
   "source": [
    "https://www.tutorialsteacher.com/python/python-generator#:~:text=Python%20provides%20a%20generator%20to,rather%20than%20a%20return%20statement."
   ]
  },
  {
   "cell_type": "markdown",
   "id": "ced80f60",
   "metadata": {},
   "source": [
    "https://www.tensorflow.org/api_docs/python/tf/keras/utils/Sequence"
   ]
  },
  {
   "cell_type": "code",
   "execution_count": 6,
   "id": "6d587d3d",
   "metadata": {},
   "outputs": [
    {
     "data": {
      "text/plain": [
       "(12800, 64)"
      ]
     },
     "execution_count": 6,
     "metadata": {},
     "output_type": "execute_result"
    }
   ],
   "source": [
    "x.shape"
   ]
  },
  {
   "cell_type": "code",
   "execution_count": 7,
   "id": "51bd1c69",
   "metadata": {},
   "outputs": [
    {
     "data": {
      "text/plain": [
       "(12800, 2)"
      ]
     },
     "execution_count": 7,
     "metadata": {},
     "output_type": "execute_result"
    }
   ],
   "source": [
    "y.shape"
   ]
  },
  {
   "cell_type": "code",
   "execution_count": 176,
   "id": "9d929615",
   "metadata": {},
   "outputs": [],
   "source": [
    "class pair_sequnce(\n",
    "    Sequence,\n",
    "    ):\n",
    "    \n",
    "    def __init__(\n",
    "        self, \n",
    "        batch_size,\n",
    "        batch_number,\n",
    "        x_user, \n",
    "        x_product,\n",
    "        user_product_pair_idx,\n",
    "        user_product_pair_label,        \n",
    "        training = True,\n",
    "        ):\n",
    "        \n",
    "        self.batch_size = batch_size\n",
    "        self.batch_number = batch_number\n",
    "        \n",
    "        self.x_user = x_user\n",
    "        self.x_product = x_product\n",
    "        self.user_product_pair_idx = user_product_pair_idx\n",
    "        self.user_product_pair_label = user_product_pair_label\n",
    "        \n",
    "        self.training = training\n",
    "\n",
    "    def __len__(self):\n",
    "        \n",
    "        return int(self.batch_number)\n",
    "\n",
    "    def __getitem__(self, batch_idx):\n",
    "        \n",
    "        start_idx = batch_idx*self.batch_size\n",
    "        end_idx = start_idx+self.batch_size\n",
    "        \n",
    "        sample_idxs = range(start_idx, end_idx, 1)\n",
    "        \n",
    "        print(f' {batch_idx}-th batch: {start_idx} , {end_idx}')\n",
    "        \n",
    "        user_idx = self.user_product_pair_idx[sample_idxs,0]\n",
    "        product_idx = self.user_product_pair_idx[sample_idxs,1]\n",
    "              \n",
    "        batch_x = [\n",
    "            self.x_user[user_idx],\n",
    "            self.x_product[product_idx],            \n",
    "            ]\n",
    "        \n",
    "        batch_y = user_product_pair_label[sample_idxs]\n",
    "        \n",
    "        return batch_x, batch_y\n",
    "    \n",
    "    def on_epoch_end(\n",
    "        self,\n",
    "        ):\n",
    "        #print('one epoch completed')\n",
    "        pass"
   ]
  },
  {
   "cell_type": "code",
   "execution_count": 157,
   "id": "f220faf8",
   "metadata": {},
   "outputs": [
    {
     "data": {
      "text/plain": [
       "88.4"
      ]
     },
     "execution_count": 157,
     "metadata": {},
     "output_type": "execute_result"
    }
   ],
   "source": [
    "8840/100"
   ]
  },
  {
   "cell_type": "code",
   "execution_count": 179,
   "id": "56cda5fd",
   "metadata": {},
   "outputs": [],
   "source": [
    "sequence = pair_sequnce(\n",
    "    batch_size = 100,\n",
    "    batch_number = 88,\n",
    "    x_user = x_user, \n",
    "    x_product = x_product,\n",
    "    user_product_pair_idx = user_product_pair_idx,\n",
    "    user_product_pair_label = user_product_pair_label,  \n",
    "    )"
   ]
  },
  {
   "cell_type": "code",
   "execution_count": 164,
   "id": "5045aeaa",
   "metadata": {},
   "outputs": [
    {
     "data": {
      "text/plain": [
       "[array([[0.36014167, 0.8953272 , 0.04904894, ..., 0.7370779 , 0.38186786,\n",
       "         0.30627914],\n",
       "        [0.57142497, 0.16649979, 0.52360356, ..., 0.64614968, 0.92651021,\n",
       "         0.3104614 ],\n",
       "        [0.1927001 , 0.13647963, 0.4336823 , ..., 0.28680599, 0.77484387,\n",
       "         0.69805955],\n",
       "        ...,\n",
       "        [0.02111137, 0.44721644, 0.77504827, ..., 0.36727382, 0.46720041,\n",
       "         0.28773872],\n",
       "        [0.3266424 , 0.95771211, 0.93116124, ..., 0.93027533, 0.88614874,\n",
       "         0.94156927],\n",
       "        [0.52727344, 0.32492406, 0.36815081, ..., 0.28564841, 0.20983454,\n",
       "         0.84234656]]),\n",
       " array([[0.36958653, 0.81740346, 0.56907712, ..., 0.50251637, 0.26247987,\n",
       "         0.63129122],\n",
       "        [0.36958653, 0.81740346, 0.56907712, ..., 0.50251637, 0.26247987,\n",
       "         0.63129122],\n",
       "        [0.36958653, 0.81740346, 0.56907712, ..., 0.50251637, 0.26247987,\n",
       "         0.63129122],\n",
       "        ...,\n",
       "        [0.36958653, 0.81740346, 0.56907712, ..., 0.50251637, 0.26247987,\n",
       "         0.63129122],\n",
       "        [0.36958653, 0.81740346, 0.56907712, ..., 0.50251637, 0.26247987,\n",
       "         0.63129122],\n",
       "        [0.36958653, 0.81740346, 0.56907712, ..., 0.50251637, 0.26247987,\n",
       "         0.63129122]])]"
      ]
     },
     "execution_count": 164,
     "metadata": {},
     "output_type": "execute_result"
    }
   ],
   "source": [
    "sequence[12][0]"
   ]
  },
  {
   "cell_type": "code",
   "execution_count": 165,
   "id": "2072d00a",
   "metadata": {},
   "outputs": [
    {
     "data": {
      "text/plain": [
       "array([0, 0, 1, 1, 1, 1, 1, 1, 0, 0, 1, 0, 0, 0, 1, 0, 1, 0, 1, 1, 0, 1,\n",
       "       1, 1, 1, 0, 1, 1, 0, 1, 0, 1, 1, 1, 1, 1, 1, 1, 1, 0, 0, 0, 1, 0,\n",
       "       0, 0, 1, 0, 1, 0, 0, 0, 0, 0, 0, 0, 0, 0, 1, 0, 0, 1, 1, 0, 1, 0,\n",
       "       1, 1, 1, 1, 0, 1, 0, 1, 1, 0, 1, 1, 0, 1, 0, 1, 0, 0, 1, 0, 1, 0,\n",
       "       1, 0, 0, 0, 1, 1, 1, 1, 0, 0, 0, 1])"
      ]
     },
     "execution_count": 165,
     "metadata": {},
     "output_type": "execute_result"
    }
   ],
   "source": [
    "sequence[12][1]"
   ]
  },
  {
   "cell_type": "code",
   "execution_count": 170,
   "id": "43d87938",
   "metadata": {},
   "outputs": [
    {
     "name": "stdout",
     "output_type": "stream",
     "text": [
      "Epoch 1/10\n",
      "88/88 [==============================] - 1s 4ms/step - loss: 0.7289 - auc_6: 0.4935\n",
      "Epoch 2/10\n",
      "88/88 [==============================] - 0s 3ms/step - loss: 0.6932 - auc_6: 0.4996\n",
      "Epoch 3/10\n",
      "88/88 [==============================] - 0s 3ms/step - loss: 0.6932 - auc_6: 0.5094\n",
      "Epoch 4/10\n",
      "88/88 [==============================] - 0s 3ms/step - loss: 0.6932 - auc_6: 0.5055\n",
      "Epoch 5/10\n",
      "88/88 [==============================] - 0s 3ms/step - loss: 0.6930 - auc_6: 0.5057\n",
      "Epoch 6/10\n",
      "88/88 [==============================] - 0s 3ms/step - loss: 0.6931 - auc_6: 0.5081\n",
      "Epoch 7/10\n",
      "88/88 [==============================] - 0s 3ms/step - loss: 0.6929 - auc_6: 0.5116\n",
      "Epoch 8/10\n",
      "88/88 [==============================] - 0s 3ms/step - loss: 0.6928 - auc_6: 0.5134\n",
      "Epoch 9/10\n",
      "88/88 [==============================] - 0s 3ms/step - loss: 0.6927 - auc_6: 0.5164\n",
      "Epoch 10/10\n",
      "88/88 [==============================] - 0s 3ms/step - loss: 0.6929 - auc_6: 0.5131\n"
     ]
    },
    {
     "data": {
      "text/plain": [
       "<keras.callbacks.History at 0x1d22f9ac8b0>"
      ]
     },
     "execution_count": 170,
     "metadata": {},
     "output_type": "execute_result"
    }
   ],
   "source": [
    "model = build_pair_model()\n",
    "\n",
    "model.fit(\n",
    "    sequence, \n",
    "    epochs=10,\n",
    "    batch_size=64,\n",
    "    shuffle=True,\n",
    ")"
   ]
  },
  {
   "cell_type": "code",
   "execution_count": 180,
   "id": "cbfe05b8",
   "metadata": {},
   "outputs": [
    {
     "name": "stdout",
     "output_type": "stream",
     "text": [
      " 0-th batch: 0 , 100\n",
      " 0-th batch: 0 , 100\n",
      " 1-th batch: 100 , 200\n",
      " 1/88 [..............................] - ETA: 2s - loss: 0.6956 - auc_6: 0.5086 2-th batch: 200 , 300\n",
      " 3-th batch: 300 , 400\n",
      " 4-th batch: 400 , 500\n",
      " 5-th batch: 500 , 600\n",
      " 6-th batch: 600 , 700\n",
      " 7-th batch: 700 , 800\n",
      " 8-th batch: 800 , 900\n",
      " 9-th batch: 900 , 1000\n",
      " 10-th batch: 1000 , 1100\n",
      " 11-th batch: 1100 , 1200\n",
      " 12-th batch: 1200 , 1300\n",
      " 13-th batch: 1300 , 1400\n",
      " 14-th batch: 1400 , 1500\n",
      " 15-th batch: 1500 , 1600\n",
      " 16-th batch: 1600 , 1700\n",
      " 17-th batch: 1700 , 1800\n",
      " 18-th batch: 1800 , 1900\n",
      " 19-th batch: 1900 , 2000\n",
      " 20-th batch: 2000 , 2100\n",
      "20/88 [=====>........................] - ETA: 0s - loss: 0.6930 - auc_6: 0.5220 21-th batch: 2100 , 2200\n",
      " 22-th batch: 2200 , 2300\n",
      " 23-th batch: 2300 , 2400\n",
      " 24-th batch: 2400 , 2500\n",
      " 25-th batch: 2500 , 2600\n",
      " 26-th batch: 2600 , 2700\n",
      " 27-th batch: 2700 , 2800\n",
      " 28-th batch: 2800 , 2900\n",
      " 29-th batch: 2900 , 3000\n",
      " 30-th batch: 3000 , 3100\n",
      " 31-th batch: 3100 , 3200\n",
      " 32-th batch: 3200 , 3300\n",
      " 33-th batch: 3300 , 3400\n",
      " 34-th batch: 3400 , 3500\n",
      " 35-th batch: 3500 , 3600\n",
      " 36-th batch: 3600 , 3700\n",
      " 37-th batch: 3700 , 3800\n",
      " 38-th batch: 3800 , 3900\n",
      " 39-th batch: 3900 , 4000\n",
      " 40-th batch: 4000 , 4100\n",
      "40/88 [============>.................] - ETA: 0s - loss: 0.6926 - auc_6: 0.5238 41-th batch: 4100 , 4200\n",
      " 42-th batch: 4200 , 4300\n",
      " 43-th batch: 4300 , 4400\n",
      " 44-th batch: 4400 , 4500\n",
      " 45-th batch: 4500 , 4600\n",
      " 46-th batch: 4600 , 4700\n",
      " 47-th batch: 4700 , 4800\n",
      " 48-th batch: 4800 , 4900\n",
      " 49-th batch: 4900 , 5000\n",
      " 50-th batch: 5000 , 5100\n",
      " 51-th batch: 5100 , 5200\n",
      " 52-th batch: 5200 , 5300\n",
      " 53-th batch: 5300 , 5400\n",
      " 54-th batch: 5400 , 5500\n",
      " 55-th batch: 5500 , 5600\n",
      " 56-th batch: 5600 , 5700\n",
      " 57-th batch: 5700 , 5800\n",
      " 58-th batch: 5800 , 5900\n",
      " 59-th batch: 5900 , 6000\n",
      "59/88 [===================>..........] - ETA: 0s - loss: 0.6926 - auc_6: 0.5171 60-th batch: 6000 , 6100\n",
      " 61-th batch: 6100 , 6200\n",
      " 62-th batch: 6200 , 6300\n",
      " 63-th batch: 6300 , 6400\n",
      " 64-th batch: 6400 , 6500\n",
      " 65-th batch: 6500 , 6600\n",
      " 66-th batch: 6600 , 6700\n",
      " 67-th batch: 6700 , 6800\n",
      " 68-th batch: 6800 , 6900\n",
      " 69-th batch: 6900 , 7000\n",
      " 70-th batch: 7000 , 7100\n",
      " 71-th batch: 7100 , 7200\n",
      " 72-th batch: 7200 , 7300\n",
      " 73-th batch: 7300 , 7400\n",
      " 74-th batch: 7400 , 7500\n",
      " 75-th batch: 7500 , 7600\n",
      " 76-th batch: 7600 , 7700\n",
      " 77-th batch: 7700 , 7800\n",
      " 78-th batch: 7800 , 7900\n",
      " 79-th batch: 7900 , 8000\n",
      "79/88 [=========================>....] - ETA: 0s - loss: 0.6921 - auc_6: 0.5200 80-th batch: 8000 , 8100\n",
      " 81-th batch: 8100 , 8200\n",
      " 82-th batch: 8200 , 8300\n",
      " 83-th batch: 8300 , 8400\n",
      " 84-th batch: 8400 , 8500\n",
      " 85-th batch: 8500 , 8600\n",
      " 86-th batch: 8600 , 8700\n",
      " 87-th batch: 8700 , 8800\n",
      "88/88 [==============================] - 0s 3ms/step - loss: 0.6922 - auc_6: 0.5188\n"
     ]
    }
   ],
   "source": [
    "score = model.evaluate(sequence)"
   ]
  },
  {
   "cell_type": "code",
   "execution_count": 181,
   "id": "c7b60a62",
   "metadata": {},
   "outputs": [
    {
     "name": "stdout",
     "output_type": "stream",
     "text": [
      " 0-th batch: 0 , 100\n",
      " 0-th batch: 0 , 100\n",
      " 1-th batch: 100 , 200\n",
      " 1/88 [..............................] - ETA: 2s 2-th batch: 200 , 300\n",
      " 3-th batch: 300 , 400\n",
      " 4-th batch: 400 , 500\n",
      " 5-th batch: 500 , 600\n",
      " 6-th batch: 600 , 700\n",
      " 7-th batch: 700 , 800\n",
      " 8-th batch: 800 , 900\n",
      " 9-th batch: 900 , 1000\n",
      " 10-th batch: 1000 , 1100\n",
      " 11-th batch: 1100 , 1200\n",
      " 12-th batch: 1200 , 1300\n",
      " 13-th batch: 1300 , 1400\n",
      " 14-th batch: 1400 , 1500\n",
      " 15-th batch: 1500 , 1600\n",
      " 16-th batch: 1600 , 1700\n",
      " 17-th batch: 1700 , 1800\n",
      " 18-th batch: 1800 , 1900\n",
      " 19-th batch: 1900 , 2000\n",
      " 20-th batch: 2000 , 2100\n",
      " 21-th batch: 2100 , 2200\n",
      " 22-th batch: 2200 , 2300\n",
      " 23-th batch: 2300 , 2400\n",
      " 24-th batch: 2400 , 2500\n",
      " 25-th batch: 2500 , 2600\n",
      " 26-th batch: 2600 , 2700\n",
      " 27-th batch: 2700 , 2800\n",
      " 28-th batch: 2800 , 2900\n",
      " 29-th batch: 2900 , 3000\n",
      " 30-th batch: 3000 , 3100\n",
      " 31-th batch: 3100 , 3200\n",
      " 32-th batch: 3200 , 3300\n",
      " 33-th batch: 3300 , 3400\n",
      " 34-th batch: 3400 , 3500\n",
      " 35-th batch: 3500 , 3600\n",
      " 36-th batch: 3600 , 3700\n",
      " 37-th batch: 3700 , 3800\n",
      " 38-th batch: 3800 , 3900\n",
      " 39-th batch: 3900 , 4000\n",
      "39/88 [============>.................] - ETA: 0s 40-th batch: 4000 , 4100\n",
      " 41-th batch: 4100 , 4200\n",
      " 42-th batch: 4200 , 4300\n",
      " 43-th batch: 4300 , 4400\n",
      " 44-th batch: 4400 , 4500\n",
      " 45-th batch: 4500 , 4600\n",
      " 46-th batch: 4600 , 4700\n",
      " 47-th batch: 4700 , 4800\n",
      " 48-th batch: 4800 , 4900\n",
      " 49-th batch: 4900 , 5000\n",
      " 50-th batch: 5000 , 5100\n",
      " 51-th batch: 5100 , 5200\n",
      " 52-th batch: 5200 , 5300\n",
      " 53-th batch: 5300 , 5400\n",
      " 54-th batch: 5400 , 5500\n",
      " 55-th batch: 5500 , 5600\n",
      " 56-th batch: 5600 , 5700\n",
      " 57-th batch: 5700 , 5800\n",
      " 58-th batch: 5800 , 5900\n",
      " 59-th batch: 5900 , 6000\n",
      " 60-th batch: 6000 , 6100\n",
      " 61-th batch: 6100 , 6200\n",
      " 62-th batch: 6200 , 6300\n",
      " 63-th batch: 6300 , 6400\n",
      " 64-th batch: 6400 , 6500\n",
      " 65-th batch: 6500 , 6600\n",
      " 66-th batch: 6600 , 6700\n",
      " 67-th batch: 6700 , 6800\n",
      " 68-th batch: 6800 , 6900\n",
      " 69-th batch: 6900 , 7000\n",
      " 70-th batch: 7000 , 7100\n",
      " 71-th batch: 7100 , 7200\n",
      " 72-th batch: 7200 , 7300\n",
      " 73-th batch: 7300 , 7400\n",
      " 74-th batch: 7400 , 7500\n",
      " 75-th batch: 7500 , 7600\n",
      " 76-th batch: 7600 , 7700\n",
      " 77-th batch: 7700 , 7800\n",
      " 78-th batch: 7800 , 7900\n",
      " 79-th batch: 7900 , 8000\n",
      "79/88 [=========================>....] - ETA: 0s 80-th batch: 8000 , 8100\n",
      " 81-th batch: 8100 , 8200\n",
      " 82-th batch: 8200 , 8300\n",
      " 83-th batch: 8300 , 8400\n",
      " 84-th batch: 8400 , 8500\n",
      " 85-th batch: 8500 , 8600\n",
      " 86-th batch: 8600 , 8700\n",
      " 87-th batch: 8700 , 8800\n",
      "88/88 [==============================] - 0s 1ms/step\n"
     ]
    }
   ],
   "source": [
    "score = model.predict(sequence)"
   ]
  },
  {
   "cell_type": "code",
   "execution_count": 182,
   "id": "4335917a",
   "metadata": {},
   "outputs": [
    {
     "data": {
      "text/plain": [
       "(8800, 1)"
      ]
     },
     "execution_count": 182,
     "metadata": {},
     "output_type": "execute_result"
    }
   ],
   "source": [
    "score.shape"
   ]
  },
  {
   "cell_type": "code",
   "execution_count": 183,
   "id": "ed377bb0",
   "metadata": {},
   "outputs": [
    {
     "data": {
      "text/plain": [
       "array([[0.5       ],\n",
       "       [0.5174999 ],\n",
       "       [0.58271074],\n",
       "       ...,\n",
       "       [0.5055469 ],\n",
       "       [0.50038165],\n",
       "       [0.5063474 ]], dtype=float32)"
      ]
     },
     "execution_count": 183,
     "metadata": {},
     "output_type": "execute_result"
    }
   ],
   "source": [
    "score"
   ]
  },
  {
   "cell_type": "code",
   "execution_count": 14,
   "id": "9ae64555",
   "metadata": {},
   "outputs": [],
   "source": [
    "features_model = features()"
   ]
  },
  {
   "cell_type": "code",
   "execution_count": 15,
   "id": "e00db9e6",
   "metadata": {},
   "outputs": [
    {
     "name": "stdout",
     "output_type": "stream",
     "text": [
      "100/100 [==============================] - 0s 710us/step\n"
     ]
    }
   ],
   "source": [
    "x_test = features_model.predict(sequence_test)"
   ]
  },
  {
   "cell_type": "code",
   "execution_count": 184,
   "id": "795931c1",
   "metadata": {},
   "outputs": [
    {
     "data": {
      "text/plain": [
       "(8840, 2)"
      ]
     },
     "execution_count": 184,
     "metadata": {},
     "output_type": "execute_result"
    }
   ],
   "source": [
    "user_product_pair_idx.shape"
   ]
  },
  {
   "cell_type": "markdown",
   "id": "4d62f429",
   "metadata": {},
   "source": [
    "# end"
   ]
  }
 ],
 "metadata": {
  "kernelspec": {
   "display_name": "Python 3 (ipykernel)",
   "language": "python",
   "name": "python3"
  },
  "language_info": {
   "codemirror_mode": {
    "name": "ipython",
    "version": 3
   },
   "file_extension": ".py",
   "mimetype": "text/x-python",
   "name": "python",
   "nbconvert_exporter": "python",
   "pygments_lexer": "ipython3",
   "version": "3.10.6"
  }
 },
 "nbformat": 4,
 "nbformat_minor": 5
}
