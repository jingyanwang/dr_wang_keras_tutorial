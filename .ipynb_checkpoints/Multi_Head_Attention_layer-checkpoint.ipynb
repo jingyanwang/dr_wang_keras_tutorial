{
 "cells": [
  {
   "cell_type": "markdown",
   "id": "0b59b922",
   "metadata": {},
   "source": [
    "https://keras.io/api/layers/attention_layers/multi_head_attention/"
   ]
  },
  {
   "cell_type": "code",
   "execution_count": 1,
   "id": "9cff3a84",
   "metadata": {},
   "outputs": [],
   "source": [
    "import tensorflow as tf"
   ]
  },
  {
   "cell_type": "code",
   "execution_count": 2,
   "id": "c690d80d",
   "metadata": {},
   "outputs": [],
   "source": [
    "from tensorflow import keras"
   ]
  },
  {
   "cell_type": "code",
   "execution_count": 43,
   "id": "df101296",
   "metadata": {},
   "outputs": [],
   "source": [
    "target = tf.keras.Input(\n",
    "    shape = (6, 16),\n",
    "    )\n",
    "\n",
    "source = tf.keras.Input(\n",
    "    shape = (8, 16),\n",
    "    )"
   ]
  },
  {
   "cell_type": "code",
   "execution_count": 44,
   "id": "f4a3aaeb",
   "metadata": {},
   "outputs": [],
   "source": [
    "multi_head_attention_layer = tf.keras.layers.MultiHeadAttention(\n",
    "    num_heads = 4,\n",
    "    key_dim = 10,\n",
    "    )"
   ]
  },
  {
   "cell_type": "code",
   "execution_count": 45,
   "id": "8dd93b7f",
   "metadata": {},
   "outputs": [],
   "source": [
    "output_tensor, weights = multi_head_attention_layer(\n",
    "    target,\n",
    "    source,\n",
    "    return_attention_scores = True,\n",
    "    )"
   ]
  },
  {
   "cell_type": "code",
   "execution_count": 47,
   "id": "f0cbc369",
   "metadata": {},
   "outputs": [
    {
     "data": {
      "text/plain": [
       "<keras.layers.attention.multi_head_attention.MultiHeadAttention at 0x24863409000>"
      ]
     },
     "execution_count": 47,
     "metadata": {},
     "output_type": "execute_result"
    }
   ],
   "source": [
    "multi_head_attention_layer"
   ]
  },
  {
   "cell_type": "code",
   "execution_count": 48,
   "id": "e6a6f85e",
   "metadata": {},
   "outputs": [],
   "source": [
    "model = tf.keras.Model(\n",
    "    inputs = [\n",
    "        target,\n",
    "        source,\n",
    "    ],\n",
    "    outputs = [\n",
    "        output_tensor,\n",
    "        weights\n",
    "    ]\n",
    "    )"
   ]
  },
  {
   "cell_type": "code",
   "execution_count": 49,
   "id": "58eabd23",
   "metadata": {},
   "outputs": [
    {
     "name": "stdout",
     "output_type": "stream",
     "text": [
      "Model: \"model_1\"\n",
      "__________________________________________________________________________________________________\n",
      " Layer (type)                   Output Shape         Param #     Connected to                     \n",
      "==================================================================================================\n",
      " input_5 (InputLayer)           [(None, 6, 16)]      0           []                               \n",
      "                                                                                                  \n",
      " input_6 (InputLayer)           [(None, 8, 16)]      0           []                               \n",
      "                                                                                                  \n",
      " multi_head_attention_1 (MultiH  ((None, 6, 16),     2696        ['input_5[0][0]',                \n",
      " eadAttention)                   (None, 4, 6, 8))                 'input_6[0][0]']                \n",
      "                                                                                                  \n",
      "==================================================================================================\n",
      "Total params: 2,696\n",
      "Trainable params: 2,696\n",
      "Non-trainable params: 0\n",
      "__________________________________________________________________________________________________\n"
     ]
    }
   ],
   "source": [
    "model.summary()"
   ]
  },
  {
   "cell_type": "markdown",
   "id": "32d30576",
   "metadata": {},
   "source": [
    "# test with dat"
   ]
  },
  {
   "cell_type": "code",
   "execution_count": 50,
   "id": "ed7e5630",
   "metadata": {},
   "outputs": [],
   "source": [
    "import numpy as np"
   ]
  },
  {
   "cell_type": "code",
   "execution_count": 51,
   "id": "f7e4cb69",
   "metadata": {},
   "outputs": [
    {
     "data": {
      "text/plain": [
       "[<KerasTensor: shape=(None, 6, 16) dtype=float32 (created by layer 'input_5')>,\n",
       " <KerasTensor: shape=(None, 8, 16) dtype=float32 (created by layer 'input_6')>]"
      ]
     },
     "execution_count": 51,
     "metadata": {},
     "output_type": "execute_result"
    }
   ],
   "source": [
    "model.inputs"
   ]
  },
  {
   "cell_type": "code",
   "execution_count": 63,
   "id": "b35baec6",
   "metadata": {},
   "outputs": [
    {
     "data": {
      "text/plain": [
       "(3, 6, 16)"
      ]
     },
     "execution_count": 63,
     "metadata": {},
     "output_type": "execute_result"
    }
   ],
   "source": [
    "target_data = np.random.rand(\n",
    "    3, 6, 16\n",
    "    )\n",
    "target_data.shape"
   ]
  },
  {
   "cell_type": "code",
   "execution_count": 64,
   "id": "664675f8",
   "metadata": {},
   "outputs": [
    {
     "data": {
      "text/plain": [
       "(3, 8, 16)"
      ]
     },
     "execution_count": 64,
     "metadata": {},
     "output_type": "execute_result"
    }
   ],
   "source": [
    "source_data = np.random.rand(\n",
    "    3, 8, 16\n",
    "    )\n",
    "source_data.shape"
   ]
  },
  {
   "cell_type": "code",
   "execution_count": 65,
   "id": "7b612f24",
   "metadata": {},
   "outputs": [],
   "source": [
    "x = [\n",
    "    target_data,\n",
    "    source_data,\n",
    "]"
   ]
  },
  {
   "cell_type": "code",
   "execution_count": 66,
   "id": "689e088c",
   "metadata": {},
   "outputs": [
    {
     "name": "stdout",
     "output_type": "stream",
     "text": [
      "1/1 [==============================] - 0s 215ms/step\n"
     ]
    }
   ],
   "source": [
    "y = model.predict(x)"
   ]
  },
  {
   "cell_type": "code",
   "execution_count": 68,
   "id": "9a75dc52",
   "metadata": {},
   "outputs": [
    {
     "data": {
      "text/plain": [
       "(3, 6, 16)"
      ]
     },
     "execution_count": 68,
     "metadata": {},
     "output_type": "execute_result"
    }
   ],
   "source": [
    "y[0].shape"
   ]
  },
  {
   "cell_type": "code",
   "execution_count": 69,
   "id": "0e581fe2",
   "metadata": {},
   "outputs": [
    {
     "data": {
      "text/plain": [
       "(3, 4, 6, 8)"
      ]
     },
     "execution_count": 69,
     "metadata": {},
     "output_type": "execute_result"
    }
   ],
   "source": [
    "y[1].shape"
   ]
  },
  {
   "cell_type": "code",
   "execution_count": 71,
   "id": "0bc4c466",
   "metadata": {},
   "outputs": [
    {
     "data": {
      "text/plain": [
       "array([[[0.12772563, 0.12616478, 0.13036045, 0.12200306, 0.126748  ,\n",
       "         0.12362163, 0.12640627, 0.11697017],\n",
       "        [0.12910034, 0.12442674, 0.13401498, 0.12428208, 0.12229104,\n",
       "         0.12355483, 0.12636365, 0.11596631],\n",
       "        [0.12704283, 0.12630887, 0.13037072, 0.12476128, 0.12713385,\n",
       "         0.12290147, 0.12376611, 0.11771494],\n",
       "        [0.12777916, 0.12544581, 0.12852891, 0.12460414, 0.12698376,\n",
       "         0.12330268, 0.12477107, 0.11858448],\n",
       "        [0.12791145, 0.12790315, 0.127364  , 0.12279636, 0.12804875,\n",
       "         0.12131897, 0.12502044, 0.11963688],\n",
       "        [0.12939617, 0.1254393 , 0.12879187, 0.12205814, 0.12641588,\n",
       "         0.12347578, 0.12615529, 0.1182676 ]],\n",
       "\n",
       "       [[0.12477323, 0.12493065, 0.12220493, 0.12577006, 0.12733994,\n",
       "         0.12542522, 0.12597567, 0.12358028],\n",
       "        [0.12615266, 0.12568286, 0.12069038, 0.12493178, 0.1294339 ,\n",
       "         0.12497088, 0.12619652, 0.12194103],\n",
       "        [0.12298717, 0.12503068, 0.11959112, 0.12537137, 0.12853411,\n",
       "         0.12518558, 0.12620337, 0.12709661],\n",
       "        [0.12390707, 0.12351817, 0.1206881 , 0.12763596, 0.12842685,\n",
       "         0.12457489, 0.12482039, 0.12642856],\n",
       "        [0.12732849, 0.12357725, 0.12350069, 0.12501423, 0.12726289,\n",
       "         0.12680505, 0.12616673, 0.12034468],\n",
       "        [0.1252063 , 0.12375319, 0.12557988, 0.12506193, 0.1247942 ,\n",
       "         0.12714134, 0.12679337, 0.12166981]],\n",
       "\n",
       "       [[0.12477773, 0.12293854, 0.12458873, 0.13057287, 0.12172706,\n",
       "         0.12531614, 0.12552173, 0.12455717],\n",
       "        [0.12722252, 0.1220146 , 0.12450813, 0.1336761 , 0.11958601,\n",
       "         0.12651311, 0.12325298, 0.12322655],\n",
       "        [0.12667662, 0.12228896, 0.12380943, 0.12975821, 0.12254851,\n",
       "         0.1263948 , 0.12447169, 0.12405176],\n",
       "        [0.1253065 , 0.12246026, 0.12509711, 0.13007209, 0.12111235,\n",
       "         0.12640083, 0.1250135 , 0.12453738],\n",
       "        [0.12706621, 0.12052079, 0.12558432, 0.13162564, 0.12088746,\n",
       "         0.12699457, 0.12391985, 0.12340116],\n",
       "        [0.12438922, 0.12033343, 0.12572336, 0.12807415, 0.12317239,\n",
       "         0.12705022, 0.12617998, 0.12507723]],\n",
       "\n",
       "       [[0.12210798, 0.1280205 , 0.12812358, 0.12561907, 0.12276515,\n",
       "         0.12452129, 0.12372899, 0.12511343],\n",
       "        [0.12166511, 0.12593053, 0.13027528, 0.1248065 , 0.12441244,\n",
       "         0.12395456, 0.12483037, 0.12412522],\n",
       "        [0.12222413, 0.12741463, 0.12899075, 0.12599796, 0.12145016,\n",
       "         0.12440032, 0.12447208, 0.12504996],\n",
       "        [0.12280182, 0.12703195, 0.12717696, 0.12571055, 0.12111549,\n",
       "         0.12688509, 0.12479742, 0.12448075],\n",
       "        [0.12160375, 0.1243489 , 0.1273923 , 0.12610422, 0.12186495,\n",
       "         0.12687002, 0.12664402, 0.12517178],\n",
       "        [0.12033805, 0.1251222 , 0.13065338, 0.1240148 , 0.12233937,\n",
       "         0.12754522, 0.1276155 , 0.12237146]]], dtype=float32)"
      ]
     },
     "execution_count": 71,
     "metadata": {},
     "output_type": "execute_result"
    }
   ],
   "source": [
    "y[1][0]"
   ]
  },
  {
   "cell_type": "code",
   "execution_count": 74,
   "id": "18e30f6a",
   "metadata": {},
   "outputs": [],
   "source": [
    "multi_head_attention_layer = tf.keras.layers.MultiHeadAttention(\n",
    "    num_heads = 2,\n",
    "    key_dim = 2,\n",
    "    attention_axes = (2,3),\n",
    "    )"
   ]
  },
  {
   "cell_type": "code",
   "execution_count": 80,
   "id": "1e76596c",
   "metadata": {},
   "outputs": [],
   "source": [
    "input_layer = tf.keras.layers.Input(\n",
    "    shape = (5, 3, 4, 16),\n",
    "    )"
   ]
  },
  {
   "cell_type": "code",
   "execution_count": 82,
   "id": "7e6a5ae1",
   "metadata": {},
   "outputs": [],
   "source": [
    "output_layer = multi_head_attention_layer(\n",
    "    input_layer,\n",
    "    input_layer,\n",
    "    )"
   ]
  },
  {
   "cell_type": "code",
   "execution_count": 83,
   "id": "ff47cebe",
   "metadata": {},
   "outputs": [],
   "source": [
    "model = tf.keras.Model(\n",
    "    inputs = input_layer,\n",
    "    outputs = output_layer\n",
    "    )"
   ]
  },
  {
   "cell_type": "code",
   "execution_count": 84,
   "id": "8d441e3a",
   "metadata": {},
   "outputs": [
    {
     "data": {
      "text/plain": [
       "(100, 5, 3, 4, 16)"
      ]
     },
     "execution_count": 84,
     "metadata": {},
     "output_type": "execute_result"
    }
   ],
   "source": [
    "input_data = np.random.rand(\n",
    "    100, 5, 3, 4, 16\n",
    "    )\n",
    "input_data.shape"
   ]
  },
  {
   "cell_type": "code",
   "execution_count": 85,
   "id": "3692e79d",
   "metadata": {},
   "outputs": [
    {
     "name": "stdout",
     "output_type": "stream",
     "text": [
      "4/4 [==============================] - 0s 2ms/step\n"
     ]
    }
   ],
   "source": [
    "y = model.predict(input_data)"
   ]
  },
  {
   "cell_type": "markdown",
   "id": "e0c809d6",
   "metadata": {},
   "source": [
    "# end"
   ]
  }
 ],
 "metadata": {
  "kernelspec": {
   "display_name": "Python 3 (ipykernel)",
   "language": "python",
   "name": "python3"
  },
  "language_info": {
   "codemirror_mode": {
    "name": "ipython",
    "version": 3
   },
   "file_extension": ".py",
   "mimetype": "text/x-python",
   "name": "python",
   "nbconvert_exporter": "python",
   "pygments_lexer": "ipython3",
   "version": "3.10.6"
  }
 },
 "nbformat": 4,
 "nbformat_minor": 5
}
