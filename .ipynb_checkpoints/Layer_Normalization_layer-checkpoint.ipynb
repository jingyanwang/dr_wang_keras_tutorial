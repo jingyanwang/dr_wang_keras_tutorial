{
 "cells": [
  {
   "cell_type": "markdown",
   "id": "a4d8404b",
   "metadata": {},
   "source": [
    "https://keras.io/api/layers/attention_layers/additive_attention/"
   ]
  },
  {
   "cell_type": "code",
   "execution_count": 44,
   "id": "1c973792",
   "metadata": {},
   "outputs": [],
   "source": [
    "import tensorflow as tf"
   ]
  },
  {
   "cell_type": "code",
   "execution_count": 45,
   "id": "9bcc111b",
   "metadata": {},
   "outputs": [],
   "source": [
    "from tensorflow import keras"
   ]
  },
  {
   "cell_type": "code",
   "execution_count": 46,
   "id": "bd48f437",
   "metadata": {},
   "outputs": [],
   "source": [
    "input_layer = tf.keras.layers.Input(\n",
    "    shape = (2,),\n",
    "    dtype = 'int32',\n",
    "    )"
   ]
  },
  {
   "cell_type": "code",
   "execution_count": 57,
   "id": "ebf09d56",
   "metadata": {},
   "outputs": [],
   "source": [
    "layer_normatlization_layer = tf.keras.layers.LayerNormalization(\n",
    "    axis = 1,\n",
    "    )(\n",
    "    input_layer\n",
    "    )"
   ]
  },
  {
   "cell_type": "markdown",
   "id": "8746e72b",
   "metadata": {},
   "source": [
    "# attention layer"
   ]
  },
  {
   "cell_type": "code",
   "execution_count": 58,
   "id": "387ba722",
   "metadata": {},
   "outputs": [],
   "source": [
    "model = tf.keras.Model(\n",
    "    inputs = input_layer,\n",
    "    outputs = layer_normatlization_layer,\n",
    "    )"
   ]
  },
  {
   "cell_type": "code",
   "execution_count": 49,
   "id": "416470ca",
   "metadata": {},
   "outputs": [
    {
     "name": "stdout",
     "output_type": "stream",
     "text": [
      "Model: \"model_3\"\n",
      "_________________________________________________________________\n",
      " Layer (type)                Output Shape              Param #   \n",
      "=================================================================\n",
      " input_5 (InputLayer)        [(None, 2)]               0         \n",
      "                                                                 \n",
      " layer_normalization (LayerN  (None, 2)                4         \n",
      " ormalization)                                                   \n",
      "                                                                 \n",
      "=================================================================\n",
      "Total params: 4\n",
      "Trainable params: 4\n",
      "Non-trainable params: 0\n",
      "_________________________________________________________________\n"
     ]
    }
   ],
   "source": [
    "model.summary()"
   ]
  },
  {
   "cell_type": "markdown",
   "id": "920b68b7",
   "metadata": {},
   "source": [
    "# test with dat"
   ]
  },
  {
   "cell_type": "code",
   "execution_count": 50,
   "id": "2321fac4",
   "metadata": {},
   "outputs": [],
   "source": [
    "import numpy as np"
   ]
  },
  {
   "cell_type": "code",
   "execution_count": 51,
   "id": "cc4a7504",
   "metadata": {},
   "outputs": [
    {
     "data": {
      "text/plain": [
       "[<KerasTensor: shape=(None, 2) dtype=int32 (created by layer 'input_5')>]"
      ]
     },
     "execution_count": 51,
     "metadata": {},
     "output_type": "execute_result"
    }
   ],
   "source": [
    "model.inputs"
   ]
  },
  {
   "cell_type": "code",
   "execution_count": 59,
   "id": "514a14fe",
   "metadata": {},
   "outputs": [],
   "source": [
    "x = np.array([\n",
    "    [1.0,2.0],\n",
    "    [2.0,1.0],\n",
    "])"
   ]
  },
  {
   "cell_type": "code",
   "execution_count": 60,
   "id": "1a086615",
   "metadata": {},
   "outputs": [
    {
     "name": "stdout",
     "output_type": "stream",
     "text": [
      "1/1 [==============================] - 0s 41ms/step\n"
     ]
    }
   ],
   "source": [
    "y = model.predict(x)"
   ]
  },
  {
   "cell_type": "code",
   "execution_count": 61,
   "id": "4320171b",
   "metadata": {},
   "outputs": [
    {
     "data": {
      "text/plain": [
       "(2, 2)"
      ]
     },
     "execution_count": 61,
     "metadata": {},
     "output_type": "execute_result"
    }
   ],
   "source": [
    "y.shape"
   ]
  },
  {
   "cell_type": "code",
   "execution_count": 62,
   "id": "525c82ef",
   "metadata": {},
   "outputs": [
    {
     "data": {
      "text/plain": [
       "array([[-0.998006 ,  0.9980061],\n",
       "       [ 0.9980061, -0.998006 ]], dtype=float32)"
      ]
     },
     "execution_count": 62,
     "metadata": {},
     "output_type": "execute_result"
    }
   ],
   "source": [
    "y"
   ]
  },
  {
   "cell_type": "markdown",
   "id": "c3ef4ece",
   "metadata": {},
   "source": [
    "# end"
   ]
  }
 ],
 "metadata": {
  "kernelspec": {
   "display_name": "Python 3 (ipykernel)",
   "language": "python",
   "name": "python3"
  },
  "language_info": {
   "codemirror_mode": {
    "name": "ipython",
    "version": 3
   },
   "file_extension": ".py",
   "mimetype": "text/x-python",
   "name": "python",
   "nbconvert_exporter": "python",
   "pygments_lexer": "ipython3",
   "version": "3.10.6"
  }
 },
 "nbformat": 4,
 "nbformat_minor": 5
}
