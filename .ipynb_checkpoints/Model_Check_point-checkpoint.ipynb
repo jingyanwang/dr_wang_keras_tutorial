{
 "cells": [
  {
   "cell_type": "code",
   "execution_count": 1,
   "id": "6768cb77",
   "metadata": {},
   "outputs": [],
   "source": [
    "import tensorflow as tf"
   ]
  },
  {
   "cell_type": "code",
   "execution_count": 2,
   "id": "b69a08fb",
   "metadata": {},
   "outputs": [],
   "source": [
    "from tensorflow.keras import layers"
   ]
  },
  {
   "cell_type": "code",
   "execution_count": 3,
   "id": "36159425",
   "metadata": {},
   "outputs": [],
   "source": [
    "from tensorflow import keras"
   ]
  },
  {
   "cell_type": "code",
   "execution_count": 4,
   "id": "e25aa01e",
   "metadata": {},
   "outputs": [],
   "source": [
    "import numpy as np"
   ]
  },
  {
   "cell_type": "code",
   "execution_count": 5,
   "id": "1b6f7052",
   "metadata": {},
   "outputs": [],
   "source": [
    "x = np.random.rand(\n",
    "    7, 10)"
   ]
  },
  {
   "cell_type": "code",
   "execution_count": 6,
   "id": "751e6ab7",
   "metadata": {},
   "outputs": [],
   "source": [
    "y = np.random.randint(\n",
    "    2, size = (7)\n",
    "    )"
   ]
  },
  {
   "cell_type": "code",
   "execution_count": 7,
   "id": "158c0c0b",
   "metadata": {},
   "outputs": [
    {
     "data": {
      "text/plain": [
       "(7, 10)"
      ]
     },
     "execution_count": 7,
     "metadata": {},
     "output_type": "execute_result"
    }
   ],
   "source": [
    "x.shape"
   ]
  },
  {
   "cell_type": "code",
   "execution_count": 8,
   "id": "dc52f7fd",
   "metadata": {},
   "outputs": [
    {
     "data": {
      "text/plain": [
       "(7,)"
      ]
     },
     "execution_count": 8,
     "metadata": {},
     "output_type": "execute_result"
    }
   ],
   "source": [
    "y.shape"
   ]
  },
  {
   "cell_type": "code",
   "execution_count": 9,
   "id": "e29f63de",
   "metadata": {},
   "outputs": [],
   "source": [
    "input_layer = layers.Input(shape=(10,))\n",
    "output_layer = layers.Dense(units=1, activation='sigmoid')(input_layer)\n",
    "\n",
    "model = keras.Model(\n",
    "    input_layer,\n",
    "    output_layer,\n",
    "    )"
   ]
  },
  {
   "cell_type": "code",
   "execution_count": 10,
   "id": "97ff0663",
   "metadata": {},
   "outputs": [
    {
     "name": "stdout",
     "output_type": "stream",
     "text": [
      "1/1 [==============================] - 1s 767ms/step\n"
     ]
    }
   ],
   "source": [
    "z = model.predict(x)"
   ]
  },
  {
   "cell_type": "code",
   "execution_count": 11,
   "id": "5eff6348",
   "metadata": {},
   "outputs": [
    {
     "data": {
      "text/plain": [
       "(7, 1)"
      ]
     },
     "execution_count": 11,
     "metadata": {},
     "output_type": "execute_result"
    }
   ],
   "source": [
    "z.shape"
   ]
  },
  {
   "cell_type": "code",
   "execution_count": 12,
   "id": "914545f7",
   "metadata": {},
   "outputs": [],
   "source": [
    "model.compile(\n",
    "    loss = 'binary_crossentropy',\n",
    "    metrics = ['accuracy']\n",
    "    )"
   ]
  },
  {
   "cell_type": "code",
   "execution_count": 13,
   "id": "cbf82e1a",
   "metadata": {},
   "outputs": [],
   "source": [
    "epochs = 10"
   ]
  },
  {
   "cell_type": "code",
   "execution_count": 14,
   "id": "c8e6324d",
   "metadata": {},
   "outputs": [],
   "source": [
    "checkpoint_file_path = 'C:\\\\data\\\\keras\\\\check_point'"
   ]
  },
  {
   "cell_type": "code",
   "execution_count": 19,
   "id": "3e9e8a5a",
   "metadata": {},
   "outputs": [],
   "source": [
    "model_checkpoint_callback = keras.callbacks.ModelCheckpoint(\n",
    "    filepath= checkpoint_file_path,\n",
    "    save_weight_only=True,\n",
    "    #monitor = 'val_accuracy',\n",
    "    #mode = 'max',\n",
    "    save_best_only = True,\n",
    "    save_freq = 'epoch',\n",
    "    )"
   ]
  },
  {
   "cell_type": "code",
   "execution_count": 20,
   "id": "d20166d8",
   "metadata": {},
   "outputs": [
    {
     "name": "stdout",
     "output_type": "stream",
     "text": [
      "Epoch 1/10\n",
      "1/1 [==============================] - ETA: 0s - loss: 0.7880 - accuracy: 0.1429WARNING:tensorflow:Can save best model only with val_loss available, skipping.\n",
      "1/1 [==============================] - 0s 6ms/step - loss: 0.7880 - accuracy: 0.1429\n",
      "Epoch 2/10\n",
      "1/1 [==============================] - ETA: 0s - loss: 0.7860 - accuracy: 0.1429WARNING:tensorflow:Can save best model only with val_loss available, skipping.\n",
      "1/1 [==============================] - 0s 7ms/step - loss: 0.7860 - accuracy: 0.1429\n",
      "Epoch 3/10\n",
      "1/1 [==============================] - ETA: 0s - loss: 0.7840 - accuracy: 0.1429WARNING:tensorflow:Can save best model only with val_loss available, skipping.\n",
      "1/1 [==============================] - 0s 5ms/step - loss: 0.7840 - accuracy: 0.1429\n",
      "Epoch 4/10\n",
      "1/1 [==============================] - ETA: 0s - loss: 0.7821 - accuracy: 0.1429WARNING:tensorflow:Can save best model only with val_loss available, skipping.\n",
      "1/1 [==============================] - 0s 4ms/step - loss: 0.7821 - accuracy: 0.1429\n",
      "Epoch 5/10\n",
      "1/1 [==============================] - ETA: 0s - loss: 0.7802 - accuracy: 0.2857WARNING:tensorflow:Can save best model only with val_loss available, skipping.\n",
      "1/1 [==============================] - 0s 4ms/step - loss: 0.7802 - accuracy: 0.2857\n",
      "Epoch 6/10\n",
      "1/1 [==============================] - ETA: 0s - loss: 0.7784 - accuracy: 0.2857WARNING:tensorflow:Can save best model only with val_loss available, skipping.\n",
      "1/1 [==============================] - 0s 4ms/step - loss: 0.7784 - accuracy: 0.2857\n",
      "Epoch 7/10\n",
      "1/1 [==============================] - ETA: 0s - loss: 0.7766 - accuracy: 0.2857WARNING:tensorflow:Can save best model only with val_loss available, skipping.\n",
      "1/1 [==============================] - 0s 4ms/step - loss: 0.7766 - accuracy: 0.2857\n",
      "Epoch 8/10\n",
      "1/1 [==============================] - ETA: 0s - loss: 0.7749 - accuracy: 0.2857WARNING:tensorflow:Can save best model only with val_loss available, skipping.\n",
      "1/1 [==============================] - 0s 4ms/step - loss: 0.7749 - accuracy: 0.2857\n",
      "Epoch 9/10\n",
      "1/1 [==============================] - ETA: 0s - loss: 0.7731 - accuracy: 0.2857WARNING:tensorflow:Can save best model only with val_loss available, skipping.\n",
      "1/1 [==============================] - 0s 4ms/step - loss: 0.7731 - accuracy: 0.2857\n",
      "Epoch 10/10\n",
      "1/1 [==============================] - ETA: 0s - loss: 0.7714 - accuracy: 0.2857WARNING:tensorflow:Can save best model only with val_loss available, skipping.\n",
      "1/1 [==============================] - 0s 4ms/step - loss: 0.7714 - accuracy: 0.2857\n"
     ]
    },
    {
     "data": {
      "text/plain": [
       "<keras.callbacks.History at 0x20fb241b5b0>"
      ]
     },
     "execution_count": 20,
     "metadata": {},
     "output_type": "execute_result"
    }
   ],
   "source": [
    "model.fit(\n",
    "    x,y,\n",
    "    epochs=epochs,\n",
    "    callbacks=[model_checkpoint_callback],\n",
    "    )"
   ]
  },
  {
   "cell_type": "code",
   "execution_count": 17,
   "id": "3c7c0ad6",
   "metadata": {},
   "outputs": [
    {
     "data": {
      "text/plain": [
       "<keras.engine.functional.Functional at 0x20ff93dfc70>"
      ]
     },
     "execution_count": 17,
     "metadata": {},
     "output_type": "execute_result"
    }
   ],
   "source": [
    "model"
   ]
  },
  {
   "cell_type": "code",
   "execution_count": 22,
   "id": "5e602248",
   "metadata": {
    "scrolled": true
   },
   "outputs": [],
   "source": [
    "checkpoint_status = model.load_weights(checkpoint_file_path)"
   ]
  }
 ],
 "metadata": {
  "kernelspec": {
   "display_name": "Python 3 (ipykernel)",
   "language": "python",
   "name": "python3"
  },
  "language_info": {
   "codemirror_mode": {
    "name": "ipython",
    "version": 3
   },
   "file_extension": ".py",
   "mimetype": "text/x-python",
   "name": "python",
   "nbconvert_exporter": "python",
   "pygments_lexer": "ipython3",
   "version": "3.10.6"
  }
 },
 "nbformat": 4,
 "nbformat_minor": 5
}
