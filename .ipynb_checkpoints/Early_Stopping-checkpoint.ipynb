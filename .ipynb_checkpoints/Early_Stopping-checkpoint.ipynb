{
 "cells": [
  {
   "cell_type": "code",
   "execution_count": 1,
   "id": "fd06379f",
   "metadata": {},
   "outputs": [],
   "source": [
    "import tensorflow as tf"
   ]
  },
  {
   "cell_type": "code",
   "execution_count": 2,
   "id": "78e0dcda",
   "metadata": {},
   "outputs": [],
   "source": [
    "from tensorflow.keras import layers"
   ]
  },
  {
   "cell_type": "code",
   "execution_count": 3,
   "id": "bc6ce86e",
   "metadata": {},
   "outputs": [],
   "source": [
    "from tensorflow import keras"
   ]
  },
  {
   "cell_type": "code",
   "execution_count": 4,
   "id": "8ad2e9db",
   "metadata": {},
   "outputs": [],
   "source": [
    "import numpy as np"
   ]
  },
  {
   "cell_type": "code",
   "execution_count": 5,
   "id": "7462aadc",
   "metadata": {},
   "outputs": [],
   "source": [
    "x = np.random.rand(\n",
    "    7, 10)"
   ]
  },
  {
   "cell_type": "code",
   "execution_count": 6,
   "id": "85adbd62",
   "metadata": {},
   "outputs": [],
   "source": [
    "y = np.random.randint(\n",
    "    2, size = (7)\n",
    "    )"
   ]
  },
  {
   "cell_type": "code",
   "execution_count": 7,
   "id": "013021e8",
   "metadata": {},
   "outputs": [
    {
     "data": {
      "text/plain": [
       "(7, 10)"
      ]
     },
     "execution_count": 7,
     "metadata": {},
     "output_type": "execute_result"
    }
   ],
   "source": [
    "x.shape"
   ]
  },
  {
   "cell_type": "code",
   "execution_count": 8,
   "id": "c0c8c258",
   "metadata": {},
   "outputs": [
    {
     "data": {
      "text/plain": [
       "(7,)"
      ]
     },
     "execution_count": 8,
     "metadata": {},
     "output_type": "execute_result"
    }
   ],
   "source": [
    "y.shape"
   ]
  },
  {
   "cell_type": "code",
   "execution_count": 9,
   "id": "d575d873",
   "metadata": {},
   "outputs": [],
   "source": [
    "input_layer = layers.Input(shape=(10,))\n",
    "output_layer = layers.Dense(units=1, activation='sigmoid')(input_layer)\n",
    "\n",
    "model = keras.Model(\n",
    "    input_layer,\n",
    "    output_layer,\n",
    "    )"
   ]
  },
  {
   "cell_type": "code",
   "execution_count": 10,
   "id": "8d9f82be",
   "metadata": {},
   "outputs": [
    {
     "name": "stdout",
     "output_type": "stream",
     "text": [
      "1/1 [==============================] - 1s 791ms/step\n"
     ]
    }
   ],
   "source": [
    "z = model.predict(x)"
   ]
  },
  {
   "cell_type": "code",
   "execution_count": 11,
   "id": "f4d6753f",
   "metadata": {},
   "outputs": [
    {
     "data": {
      "text/plain": [
       "(7, 1)"
      ]
     },
     "execution_count": 11,
     "metadata": {},
     "output_type": "execute_result"
    }
   ],
   "source": [
    "z.shape"
   ]
  },
  {
   "cell_type": "code",
   "execution_count": 12,
   "id": "ce2d3d65",
   "metadata": {},
   "outputs": [],
   "source": [
    "model.compile(\n",
    "    loss = 'binary_crossentropy',\n",
    "    metrics = ['accuracy']\n",
    "    )"
   ]
  },
  {
   "cell_type": "code",
   "execution_count": 13,
   "id": "00d0dd65",
   "metadata": {},
   "outputs": [],
   "source": [
    "epochs = 10"
   ]
  },
  {
   "cell_type": "code",
   "execution_count": 14,
   "id": "67e0d23c",
   "metadata": {},
   "outputs": [],
   "source": [
    "checkpoint_file_path = 'C:\\\\data\\\\keras\\\\check_point'"
   ]
  },
  {
   "cell_type": "code",
   "execution_count": 15,
   "id": "4512c931",
   "metadata": {},
   "outputs": [],
   "source": [
    "callback = keras.callbacks.EarlyStopping(\n",
    "    monitor='loss',\n",
    "    patience = 3,\n",
    "    verbose = 1,\n",
    "    )"
   ]
  },
  {
   "cell_type": "code",
   "execution_count": 16,
   "id": "711dcb5c",
   "metadata": {},
   "outputs": [
    {
     "name": "stdout",
     "output_type": "stream",
     "text": [
      "Epoch 1/10\n",
      "7/7 [==============================] - 0s 2ms/step - loss: 0.6825 - accuracy: 0.4286\n",
      "Epoch 2/10\n",
      "7/7 [==============================] - 0s 2ms/step - loss: 0.6754 - accuracy: 0.4286\n",
      "Epoch 3/10\n",
      "7/7 [==============================] - 0s 1ms/step - loss: 0.6707 - accuracy: 0.4286\n",
      "Epoch 4/10\n",
      "7/7 [==============================] - 0s 1ms/step - loss: 0.6666 - accuracy: 0.4286\n",
      "Epoch 5/10\n",
      "7/7 [==============================] - 0s 1ms/step - loss: 0.6628 - accuracy: 0.4286\n",
      "Epoch 6/10\n",
      "7/7 [==============================] - 0s 1ms/step - loss: 0.6592 - accuracy: 0.4286\n",
      "Epoch 7/10\n",
      "7/7 [==============================] - 0s 1ms/step - loss: 0.6556 - accuracy: 0.4286\n",
      "Epoch 8/10\n",
      "7/7 [==============================] - 0s 1ms/step - loss: 0.6523 - accuracy: 0.4286\n",
      "Epoch 9/10\n",
      "7/7 [==============================] - 0s 1ms/step - loss: 0.6490 - accuracy: 0.4286\n",
      "Epoch 10/10\n",
      "7/7 [==============================] - 0s 2ms/step - loss: 0.6459 - accuracy: 0.4286\n"
     ]
    }
   ],
   "source": [
    "history = model.fit(\n",
    "    x,y,\n",
    "    epochs=epochs,\n",
    "    batch_size = 1,\n",
    "    callbacks=[callback],\n",
    "    )"
   ]
  },
  {
   "cell_type": "code",
   "execution_count": 17,
   "id": "5e96f58d",
   "metadata": {},
   "outputs": [
    {
     "name": "stdout",
     "output_type": "stream",
     "text": [
      "0.6825099587440491\n",
      "0.6754258275032043\n",
      "0.6706641912460327\n",
      "0.6666150689125061\n",
      "0.662764847278595\n",
      "0.6591992378234863\n",
      "0.6556464433670044\n",
      "0.6523234248161316\n",
      "0.6489688754081726\n",
      "0.6458560228347778\n"
     ]
    }
   ],
   "source": [
    "for l in history.history['loss']:\n",
    "    print(l)"
   ]
  }
 ],
 "metadata": {
  "kernelspec": {
   "display_name": "Python 3 (ipykernel)",
   "language": "python",
   "name": "python3"
  },
  "language_info": {
   "codemirror_mode": {
    "name": "ipython",
    "version": 3
   },
   "file_extension": ".py",
   "mimetype": "text/x-python",
   "name": "python",
   "nbconvert_exporter": "python",
   "pygments_lexer": "ipython3",
   "version": "3.10.6"
  }
 },
 "nbformat": 4,
 "nbformat_minor": 5
}
