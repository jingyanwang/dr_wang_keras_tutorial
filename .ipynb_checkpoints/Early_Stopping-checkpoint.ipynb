{
 "cells": [
  {
   "cell_type": "code",
   "execution_count": 1,
   "id": "bd5278a3",
   "metadata": {},
   "outputs": [],
   "source": [
    "import tensorflow as tf"
   ]
  },
  {
   "cell_type": "code",
   "execution_count": 2,
   "id": "5ccd51aa",
   "metadata": {},
   "outputs": [],
   "source": [
    "from tensorflow.keras import layers"
   ]
  },
  {
   "cell_type": "code",
   "execution_count": 3,
   "id": "5fc217d0",
   "metadata": {},
   "outputs": [],
   "source": [
    "from tensorflow import keras"
   ]
  },
  {
   "cell_type": "code",
   "execution_count": 4,
   "id": "50c830e2",
   "metadata": {},
   "outputs": [],
   "source": [
    "import numpy as np"
   ]
  },
  {
   "cell_type": "code",
   "execution_count": 5,
   "id": "3cfe6c4e",
   "metadata": {},
   "outputs": [],
   "source": [
    "x = np.random.rand(\n",
    "    7, 10)"
   ]
  },
  {
   "cell_type": "code",
   "execution_count": 6,
   "id": "a0b79da9",
   "metadata": {},
   "outputs": [],
   "source": [
    "y = np.random.randint(\n",
    "    2, size = (7)\n",
    "    )"
   ]
  },
  {
   "cell_type": "code",
   "execution_count": 7,
   "id": "9882cce6",
   "metadata": {},
   "outputs": [
    {
     "data": {
      "text/plain": [
       "(7, 10)"
      ]
     },
     "execution_count": 7,
     "metadata": {},
     "output_type": "execute_result"
    }
   ],
   "source": [
    "x.shape"
   ]
  },
  {
   "cell_type": "code",
   "execution_count": 8,
   "id": "7cd92d2a",
   "metadata": {},
   "outputs": [
    {
     "data": {
      "text/plain": [
       "(7,)"
      ]
     },
     "execution_count": 8,
     "metadata": {},
     "output_type": "execute_result"
    }
   ],
   "source": [
    "y.shape"
   ]
  },
  {
   "cell_type": "code",
   "execution_count": 9,
   "id": "cd5e20d2",
   "metadata": {},
   "outputs": [],
   "source": [
    "input_layer = layers.Input(shape=(10,))\n",
    "output_layer = layers.Dense(units=1, activation='sigmoid')(input_layer)\n",
    "\n",
    "model = keras.Model(\n",
    "    input_layer,\n",
    "    output_layer,\n",
    "    )"
   ]
  },
  {
   "cell_type": "code",
   "execution_count": 10,
   "id": "3d1d46ff",
   "metadata": {},
   "outputs": [
    {
     "name": "stdout",
     "output_type": "stream",
     "text": [
      "1/1 [==============================] - 1s 767ms/step\n"
     ]
    }
   ],
   "source": [
    "z = model.predict(x)"
   ]
  },
  {
   "cell_type": "code",
   "execution_count": 11,
   "id": "3dc37621",
   "metadata": {},
   "outputs": [
    {
     "data": {
      "text/plain": [
       "(7, 1)"
      ]
     },
     "execution_count": 11,
     "metadata": {},
     "output_type": "execute_result"
    }
   ],
   "source": [
    "z.shape"
   ]
  },
  {
   "cell_type": "code",
   "execution_count": 12,
   "id": "dc4bc1d1",
   "metadata": {},
   "outputs": [],
   "source": [
    "model.compile(\n",
    "    loss = 'binary_crossentropy',\n",
    "    metrics = ['accuracy']\n",
    "    )"
   ]
  },
  {
   "cell_type": "code",
   "execution_count": 13,
   "id": "54faced6",
   "metadata": {},
   "outputs": [],
   "source": [
    "epochs = 10"
   ]
  },
  {
   "cell_type": "code",
   "execution_count": 14,
   "id": "92b5b1d4",
   "metadata": {},
   "outputs": [],
   "source": [
    "checkpoint_file_path = 'C:\\\\data\\\\keras\\\\check_point'"
   ]
  },
  {
   "cell_type": "code",
   "execution_count": 29,
   "id": "202c5702",
   "metadata": {},
   "outputs": [],
   "source": [
    "callback = keras.callbacks.EarlyStopping(\n",
    "    monitor='loss',\n",
    "    patience = 3,\n",
    "    )"
   ]
  },
  {
   "cell_type": "code",
   "execution_count": 31,
   "id": "ea074219",
   "metadata": {},
   "outputs": [
    {
     "name": "stdout",
     "output_type": "stream",
     "text": [
      "Epoch 1/10\n",
      "7/7 [==============================] - 0s 3ms/step - loss: 0.7303 - accuracy: 0.4286\n",
      "Epoch 2/10\n",
      "7/7 [==============================] - 0s 3ms/step - loss: 0.7257 - accuracy: 0.4286\n",
      "Epoch 3/10\n",
      "7/7 [==============================] - 0s 3ms/step - loss: 0.7214 - accuracy: 0.5714\n",
      "Epoch 4/10\n",
      "7/7 [==============================] - 0s 3ms/step - loss: 0.7171 - accuracy: 0.5714\n",
      "Epoch 5/10\n",
      "7/7 [==============================] - 0s 3ms/step - loss: 0.7130 - accuracy: 0.5714\n",
      "Epoch 6/10\n",
      "7/7 [==============================] - 0s 3ms/step - loss: 0.7089 - accuracy: 0.5714\n",
      "Epoch 7/10\n",
      "7/7 [==============================] - 0s 2ms/step - loss: 0.7049 - accuracy: 0.5714\n",
      "Epoch 8/10\n",
      "7/7 [==============================] - 0s 2ms/step - loss: 0.7011 - accuracy: 0.5714\n",
      "Epoch 9/10\n",
      "7/7 [==============================] - 0s 2ms/step - loss: 0.6973 - accuracy: 0.5714\n",
      "Epoch 10/10\n",
      "7/7 [==============================] - 0s 2ms/step - loss: 0.6937 - accuracy: 0.5714\n"
     ]
    }
   ],
   "source": [
    "history = model.fit(\n",
    "    x,y,\n",
    "    epochs=epochs,\n",
    "    batch_size = 1,\n",
    "    callbacks=[callback],\n",
    "    )"
   ]
  },
  {
   "cell_type": "code",
   "execution_count": 35,
   "id": "91394b11",
   "metadata": {},
   "outputs": [
    {
     "name": "stdout",
     "output_type": "stream",
     "text": [
      "0.7302989959716797\n",
      "0.7257479429244995\n",
      "0.7213806509971619\n",
      "0.7170645594596863\n",
      "0.7129688858985901\n",
      "0.7088605761528015\n",
      "0.7049006223678589\n",
      "0.701064944267273\n",
      "0.6973038911819458\n",
      "0.6936842203140259\n"
     ]
    }
   ],
   "source": [
    "for l in history.history['loss']:\n",
    "    print(l)"
   ]
  }
 ],
 "metadata": {
  "kernelspec": {
   "display_name": "Python 3 (ipykernel)",
   "language": "python",
   "name": "python3"
  },
  "language_info": {
   "codemirror_mode": {
    "name": "ipython",
    "version": 3
   },
   "file_extension": ".py",
   "mimetype": "text/x-python",
   "name": "python",
   "nbconvert_exporter": "python",
   "pygments_lexer": "ipython3",
   "version": "3.10.6"
  }
 },
 "nbformat": 4,
 "nbformat_minor": 5
}
