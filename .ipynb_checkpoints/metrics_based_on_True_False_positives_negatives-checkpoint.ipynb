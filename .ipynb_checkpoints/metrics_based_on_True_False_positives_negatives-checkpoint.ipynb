{
 "cells": [
  {
   "cell_type": "markdown",
   "id": "a4d8404b",
   "metadata": {},
   "source": [
    "https://keras.io/api/metrics/classification_metrics/"
   ]
  },
  {
   "cell_type": "code",
   "execution_count": 1,
   "id": "1c973792",
   "metadata": {},
   "outputs": [],
   "source": [
    "import tensorflow as tf"
   ]
  },
  {
   "cell_type": "code",
   "execution_count": 2,
   "id": "9bcc111b",
   "metadata": {},
   "outputs": [],
   "source": [
    "from tensorflow import keras"
   ]
  },
  {
   "cell_type": "code",
   "execution_count": 3,
   "id": "d2c4d12b",
   "metadata": {},
   "outputs": [],
   "source": [
    "import numpy as np"
   ]
  },
  {
   "cell_type": "code",
   "execution_count": 14,
   "id": "bd48f437",
   "metadata": {},
   "outputs": [],
   "source": [
    "measure = tf.keras.metrics.AUC(\n",
    "    num_thresholds=10,\n",
    "    )"
   ]
  },
  {
   "cell_type": "code",
   "execution_count": 8,
   "id": "e3681f8a",
   "metadata": {},
   "outputs": [],
   "source": [
    "label = np.random.randint(2, size = (100,))"
   ]
  },
  {
   "cell_type": "code",
   "execution_count": 10,
   "id": "f535cf62",
   "metadata": {},
   "outputs": [],
   "source": [
    "prediction = np.random.rand(100,)"
   ]
  },
  {
   "cell_type": "code",
   "execution_count": 15,
   "id": "5a93027a",
   "metadata": {},
   "outputs": [],
   "source": [
    "measure.update_state(\n",
    "    label,\n",
    "    prediction,\n",
    ")"
   ]
  },
  {
   "cell_type": "code",
   "execution_count": 16,
   "id": "ca9b75c1",
   "metadata": {},
   "outputs": [
    {
     "data": {
      "text/plain": [
       "0.42210147"
      ]
     },
     "execution_count": 16,
     "metadata": {},
     "output_type": "execute_result"
    }
   ],
   "source": [
    "measure.result().numpy()"
   ]
  },
  {
   "cell_type": "markdown",
   "id": "8892f3c2",
   "metadata": {},
   "source": [
    "# reset"
   ]
  },
  {
   "cell_type": "code",
   "execution_count": 17,
   "id": "387ba722",
   "metadata": {},
   "outputs": [],
   "source": [
    "measure.reset_state()"
   ]
  },
  {
   "cell_type": "code",
   "execution_count": 19,
   "id": "416470ca",
   "metadata": {},
   "outputs": [
    {
     "data": {
      "text/plain": [
       "0.0"
      ]
     },
     "execution_count": 19,
     "metadata": {},
     "output_type": "execute_result"
    }
   ],
   "source": [
    "measure.result().numpy()"
   ]
  },
  {
   "cell_type": "code",
   "execution_count": 20,
   "id": "08423835",
   "metadata": {},
   "outputs": [],
   "source": [
    "label = np.random.randint(2, size = (100,))\n",
    "prediction = np.random.rand(100,)"
   ]
  },
  {
   "cell_type": "code",
   "execution_count": 21,
   "id": "2321fac4",
   "metadata": {},
   "outputs": [],
   "source": [
    "measure.update_state(\n",
    "    label,\n",
    "    prediction,\n",
    ")"
   ]
  },
  {
   "cell_type": "code",
   "execution_count": 22,
   "id": "cc4a7504",
   "metadata": {},
   "outputs": [
    {
     "data": {
      "text/plain": [
       "0.46674877"
      ]
     },
     "execution_count": 22,
     "metadata": {},
     "output_type": "execute_result"
    }
   ],
   "source": [
    "measure.result().numpy()"
   ]
  },
  {
   "cell_type": "markdown",
   "id": "a4c9e951",
   "metadata": {},
   "source": [
    "# model"
   ]
  },
  {
   "cell_type": "code",
   "execution_count": 23,
   "id": "9d822998",
   "metadata": {},
   "outputs": [],
   "source": []
  },
  {
   "cell_type": "code",
   "execution_count": 71,
   "id": "3e7e8d56",
   "metadata": {},
   "outputs": [],
   "source": [
    "input_layer = keras.layers.Input(shape = (10,))\n",
    "\n",
    "output_layer = keras.layers.Dense(4, activation=\"softmax\")(\n",
    "    input_layer\n",
    "    )\n",
    "\n",
    "model = keras.Model(\n",
    "    input_layer,\n",
    "    output_layer,\n",
    "    )"
   ]
  },
  {
   "cell_type": "code",
   "execution_count": 42,
   "id": "d268070f",
   "metadata": {},
   "outputs": [
    {
     "name": "stdout",
     "output_type": "stream",
     "text": [
      "Model: \"model_2\"\n",
      "_________________________________________________________________\n",
      " Layer (type)                Output Shape              Param #   \n",
      "=================================================================\n",
      " input_4 (InputLayer)        [(None, 10)]              0         \n",
      "                                                                 \n",
      " dense_5 (Dense)             (None, 4)                 44        \n",
      "                                                                 \n",
      "=================================================================\n",
      "Total params: 44\n",
      "Trainable params: 44\n",
      "Non-trainable params: 0\n",
      "_________________________________________________________________\n"
     ]
    }
   ],
   "source": [
    "model.summary()"
   ]
  },
  {
   "cell_type": "code",
   "execution_count": 43,
   "id": "99490016",
   "metadata": {},
   "outputs": [],
   "source": [
    "model.compile(\n",
    "    optimizer='sgd',\n",
    "    loss = tf.keras.losses.CategoricalCrossentropy(),\n",
    "    metrics=[tf.keras.metrics.AUC()],\n",
    "    )"
   ]
  },
  {
   "cell_type": "code",
   "execution_count": 72,
   "id": "c31e8330",
   "metadata": {},
   "outputs": [],
   "source": [
    "x = np.random.rand(100, 10)\n",
    "y = np.random.randint(4, size = (100))\n",
    "y = keras.utils.to_categorical(y)"
   ]
  },
  {
   "cell_type": "code",
   "execution_count": 49,
   "id": "fbc5255c",
   "metadata": {},
   "outputs": [
    {
     "data": {
      "text/plain": [
       "(100, 4)"
      ]
     },
     "execution_count": 49,
     "metadata": {},
     "output_type": "execute_result"
    }
   ],
   "source": [
    "y.shape"
   ]
  },
  {
   "cell_type": "code",
   "execution_count": 50,
   "id": "eadb553d",
   "metadata": {},
   "outputs": [
    {
     "name": "stdout",
     "output_type": "stream",
     "text": [
      "Epoch 1/10\n",
      "4/4 [==============================] - 0s 3ms/step - loss: 1.3821 - auc_5: 0.5785\n",
      "Epoch 2/10\n",
      "4/4 [==============================] - 0s 3ms/step - loss: 1.3813 - auc_5: 0.5801\n",
      "Epoch 3/10\n",
      "4/4 [==============================] - 0s 3ms/step - loss: 1.3805 - auc_5: 0.5802\n",
      "Epoch 4/10\n",
      "4/4 [==============================] - 0s 3ms/step - loss: 1.3799 - auc_5: 0.5813\n",
      "Epoch 5/10\n",
      "4/4 [==============================] - 0s 3ms/step - loss: 1.3789 - auc_5: 0.5818\n",
      "Epoch 6/10\n",
      "4/4 [==============================] - 0s 3ms/step - loss: 1.3781 - auc_5: 0.5824\n",
      "Epoch 7/10\n",
      "4/4 [==============================] - 0s 3ms/step - loss: 1.3779 - auc_5: 0.5821\n",
      "Epoch 8/10\n",
      "4/4 [==============================] - 0s 3ms/step - loss: 1.3773 - auc_5: 0.5821\n",
      "Epoch 9/10\n",
      "4/4 [==============================] - 0s 4ms/step - loss: 1.3767 - auc_5: 0.5839\n",
      "Epoch 10/10\n",
      "4/4 [==============================] - 0s 3ms/step - loss: 1.3756 - auc_5: 0.5840\n"
     ]
    }
   ],
   "source": [
    "history = model.fit(x,y, epochs= 10)"
   ]
  },
  {
   "cell_type": "code",
   "execution_count": 52,
   "id": "79771233",
   "metadata": {},
   "outputs": [],
   "source": [
    "model.compile(\n",
    "    optimizer='sgd',\n",
    "    loss = tf.keras.losses.CategoricalCrossentropy(from_logits = True),\n",
    "    metrics=[tf.keras.metrics.AUC(from_logits=True)],\n",
    "    )"
   ]
  },
  {
   "cell_type": "code",
   "execution_count": 53,
   "id": "54a84236",
   "metadata": {},
   "outputs": [
    {
     "name": "stdout",
     "output_type": "stream",
     "text": [
      "Epoch 1/10\n"
     ]
    },
    {
     "name": "stderr",
     "output_type": "stream",
     "text": [
      "C:\\Users\\jimwa\\AppData\\Local\\Programs\\Python\\Python310\\lib\\site-packages\\tensorflow\\python\\util\\dispatch.py:1082: UserWarning: \"`categorical_crossentropy` received `from_logits=True`, but the `output` argument was produced by a sigmoid or softmax activation and thus does not represent logits. Was this intended?\"\n",
      "  return dispatch_target(*args, **kwargs)\n"
     ]
    },
    {
     "name": "stdout",
     "output_type": "stream",
     "text": [
      "4/4 [==============================] - 0s 3ms/step - loss: 1.3752 - auc_7: 0.5839\n",
      "Epoch 2/10\n",
      "4/4 [==============================] - 0s 3ms/step - loss: 1.3750 - auc_7: 0.5867\n",
      "Epoch 3/10\n",
      "4/4 [==============================] - 0s 4ms/step - loss: 1.3737 - auc_7: 0.5869\n",
      "Epoch 4/10\n",
      "4/4 [==============================] - 0s 3ms/step - loss: 1.3734 - auc_7: 0.5860\n",
      "Epoch 5/10\n",
      "4/4 [==============================] - 0s 3ms/step - loss: 1.3728 - auc_7: 0.5871\n",
      "Epoch 6/10\n",
      "4/4 [==============================] - 0s 3ms/step - loss: 1.3725 - auc_7: 0.5895\n",
      "Epoch 7/10\n",
      "4/4 [==============================] - 0s 3ms/step - loss: 1.3718 - auc_7: 0.5884\n",
      "Epoch 8/10\n",
      "4/4 [==============================] - 0s 3ms/step - loss: 1.3716 - auc_7: 0.5870\n",
      "Epoch 9/10\n",
      "4/4 [==============================] - 0s 3ms/step - loss: 1.3709 - auc_7: 0.5880\n",
      "Epoch 10/10\n",
      "4/4 [==============================] - 0s 3ms/step - loss: 1.3702 - auc_7: 0.5892\n"
     ]
    }
   ],
   "source": [
    "history = model.fit(x,y, epochs= 10)"
   ]
  },
  {
   "cell_type": "markdown",
   "id": "dfe66107",
   "metadata": {},
   "source": [
    "# precision "
   ]
  },
  {
   "cell_type": "code",
   "execution_count": 54,
   "id": "ddb6fd08",
   "metadata": {},
   "outputs": [],
   "source": [
    "m = tf.keras.metrics.Precision()"
   ]
  },
  {
   "cell_type": "code",
   "execution_count": 64,
   "id": "a9f1b435",
   "metadata": {},
   "outputs": [],
   "source": [
    "label = np.random.randint(\n",
    "    4,\n",
    "    size = (100, 1),\n",
    ")\n",
    "label = keras.utils.to_categorical(label)\n",
    "\n",
    "prediction = np.random.rand(\n",
    "    100, 4\n",
    ")"
   ]
  },
  {
   "cell_type": "code",
   "execution_count": 63,
   "id": "a3640b8d",
   "metadata": {},
   "outputs": [
    {
     "data": {
      "text/plain": [
       "(100, 1)"
      ]
     },
     "execution_count": 63,
     "metadata": {},
     "output_type": "execute_result"
    }
   ],
   "source": [
    "prediction.shape"
   ]
  },
  {
   "cell_type": "code",
   "execution_count": 58,
   "id": "9954c188",
   "metadata": {},
   "outputs": [],
   "source": [
    "x = np.random.rand(100, 10)"
   ]
  },
  {
   "cell_type": "code",
   "execution_count": 65,
   "id": "75589322",
   "metadata": {},
   "outputs": [],
   "source": [
    "m.update_state(\n",
    "    label, \n",
    "    prediction,\n",
    ")"
   ]
  },
  {
   "cell_type": "code",
   "execution_count": 66,
   "id": "d72eb66e",
   "metadata": {},
   "outputs": [
    {
     "data": {
      "text/plain": [
       "0.23762377"
      ]
     },
     "execution_count": 66,
     "metadata": {},
     "output_type": "execute_result"
    }
   ],
   "source": [
    "m.result().numpy()"
   ]
  },
  {
   "cell_type": "code",
   "execution_count": 67,
   "id": "80cef4a8",
   "metadata": {},
   "outputs": [],
   "source": [
    "m = tf.keras.metrics.Precision(\n",
    "    top_k=4,\n",
    ")"
   ]
  },
  {
   "cell_type": "code",
   "execution_count": 68,
   "id": "d19b16e4",
   "metadata": {},
   "outputs": [],
   "source": [
    "m.update_state(\n",
    "    label, \n",
    "    prediction,\n",
    ")"
   ]
  },
  {
   "cell_type": "code",
   "execution_count": 69,
   "id": "2fe5fff3",
   "metadata": {},
   "outputs": [
    {
     "data": {
      "text/plain": [
       "0.25"
      ]
     },
     "execution_count": 69,
     "metadata": {},
     "output_type": "execute_result"
    }
   ],
   "source": [
    "m.result().numpy()"
   ]
  },
  {
   "cell_type": "markdown",
   "id": "74749a56",
   "metadata": {},
   "source": [
    "# recall "
   ]
  },
  {
   "cell_type": "code",
   "execution_count": 79,
   "id": "60be0268",
   "metadata": {},
   "outputs": [
    {
     "name": "stdout",
     "output_type": "stream",
     "text": [
      "Epoch 1/10\n",
      "4/4 [==============================] - 1s 6ms/step - loss: 1.4383 - auc_12: 0.5061 - precision_6: 0.0000e+00 - recall_3: 0.0000e+00 - true_positives_2: 0.0000e+00 - precision_at_recall: 0.2800\n",
      "Epoch 2/10\n",
      "4/4 [==============================] - 0s 5ms/step - loss: 1.4366 - auc_12: 0.5081 - precision_6: 0.0000e+00 - recall_3: 0.0000e+00 - true_positives_2: 0.0000e+00 - precision_at_recall: 0.2786\n",
      "Epoch 3/10\n",
      "4/4 [==============================] - 0s 4ms/step - loss: 1.4347 - auc_12: 0.5091 - precision_6: 0.0000e+00 - recall_3: 0.0000e+00 - true_positives_2: 0.0000e+00 - precision_at_recall: 0.2727\n",
      "Epoch 4/10\n",
      "4/4 [==============================] - 0s 4ms/step - loss: 1.4339 - auc_12: 0.5087 - precision_6: 0.0000e+00 - recall_3: 0.0000e+00 - true_positives_2: 0.0000e+00 - precision_at_recall: 0.2727\n",
      "Epoch 5/10\n",
      "4/4 [==============================] - 0s 5ms/step - loss: 1.4316 - auc_12: 0.5089 - precision_6: 0.0000e+00 - recall_3: 0.0000e+00 - true_positives_2: 0.0000e+00 - precision_at_recall: 0.2740\n",
      "Epoch 6/10\n",
      "4/4 [==============================] - 0s 5ms/step - loss: 1.4298 - auc_12: 0.5113 - precision_6: 0.0000e+00 - recall_3: 0.0000e+00 - true_positives_2: 0.0000e+00 - precision_at_recall: 0.2679\n",
      "Epoch 7/10\n",
      "4/4 [==============================] - 0s 6ms/step - loss: 1.4273 - auc_12: 0.5136 - precision_6: 0.0000e+00 - recall_3: 0.0000e+00 - true_positives_2: 0.0000e+00 - precision_at_recall: 0.2670\n",
      "Epoch 8/10\n",
      "4/4 [==============================] - 0s 5ms/step - loss: 1.4256 - auc_12: 0.5131 - precision_6: 0.0000e+00 - recall_3: 0.0000e+00 - true_positives_2: 0.0000e+00 - precision_at_recall: 0.2688\n",
      "Epoch 9/10\n",
      "4/4 [==============================] - 0s 5ms/step - loss: 1.4246 - auc_12: 0.5157 - precision_6: 0.0000e+00 - recall_3: 0.0000e+00 - true_positives_2: 0.0000e+00 - precision_at_recall: 0.2713\n",
      "Epoch 10/10\n",
      "4/4 [==============================] - 0s 6ms/step - loss: 1.4238 - auc_12: 0.5156 - precision_6: 0.0000e+00 - recall_3: 0.0000e+00 - true_positives_2: 0.0000e+00 - precision_at_recall: 0.2737\n"
     ]
    }
   ],
   "source": [
    "model.compile(\n",
    "    optimizer='sgd',\n",
    "    loss = tf.keras.losses.CategoricalCrossentropy(),\n",
    "    metrics=[\n",
    "        tf.keras.metrics.AUC(),\n",
    "        tf.keras.metrics.Precision(),\n",
    "        tf.keras.metrics.Recall(),\n",
    "        tf.keras.metrics.TruePositives(),\n",
    "        tf.keras.metrics.PrecisionAtRecall(0.5),\n",
    "        ],\n",
    "    )\n",
    "\n",
    "history = model.fit(x,y, epochs= 10)"
   ]
  },
  {
   "cell_type": "code",
   "execution_count": null,
   "id": "3c7fd90c",
   "metadata": {},
   "outputs": [],
   "source": []
  },
  {
   "cell_type": "markdown",
   "id": "c3ef4ece",
   "metadata": {},
   "source": [
    "# end"
   ]
  }
 ],
 "metadata": {
  "kernelspec": {
   "display_name": "Python 3 (ipykernel)",
   "language": "python",
   "name": "python3"
  },
  "language_info": {
   "codemirror_mode": {
    "name": "ipython",
    "version": 3
   },
   "file_extension": ".py",
   "mimetype": "text/x-python",
   "name": "python",
   "nbconvert_exporter": "python",
   "pygments_lexer": "ipython3",
   "version": "3.10.6"
  }
 },
 "nbformat": 4,
 "nbformat_minor": 5
}
