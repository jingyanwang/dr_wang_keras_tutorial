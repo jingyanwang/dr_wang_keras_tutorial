{
 "cells": [
  {
   "cell_type": "markdown",
   "id": "a4d8404b",
   "metadata": {},
   "source": [
    "https://keras.io/api/metrics/classification_metrics/"
   ]
  },
  {
   "cell_type": "code",
   "execution_count": 80,
   "id": "1c973792",
   "metadata": {},
   "outputs": [],
   "source": [
    "import tensorflow as tf"
   ]
  },
  {
   "cell_type": "code",
   "execution_count": 81,
   "id": "9bcc111b",
   "metadata": {},
   "outputs": [],
   "source": [
    "from tensorflow import keras"
   ]
  },
  {
   "cell_type": "code",
   "execution_count": 86,
   "id": "bcde09ca",
   "metadata": {},
   "outputs": [],
   "source": [
    "import numpy as np"
   ]
  },
  {
   "cell_type": "code",
   "execution_count": 88,
   "id": "6813e05d",
   "metadata": {},
   "outputs": [],
   "source": [
    "input_layer = tf.keras.layers.Input(shape = (10,))"
   ]
  },
  {
   "cell_type": "code",
   "execution_count": 89,
   "id": "bd48f437",
   "metadata": {},
   "outputs": [],
   "source": [
    "repeat_vector_layer = tf.keras.layers.RepeatVector(\n",
    "        n = 3,\n",
    "    )(input_layer)"
   ]
  },
  {
   "cell_type": "code",
   "execution_count": 90,
   "id": "f535cf62",
   "metadata": {},
   "outputs": [],
   "source": [
    "model = tf.keras.Model(\n",
    "    inputs = input_layer,\n",
    "    outputs = repeat_vector_layer,    \n",
    ")"
   ]
  },
  {
   "cell_type": "code",
   "execution_count": 91,
   "id": "5a93027a",
   "metadata": {},
   "outputs": [],
   "source": [
    "x = np.random.rand(100, 10)"
   ]
  },
  {
   "cell_type": "code",
   "execution_count": 92,
   "id": "d98c8d06",
   "metadata": {},
   "outputs": [
    {
     "name": "stdout",
     "output_type": "stream",
     "text": [
      "4/4 [==============================] - 0s 1ms/step\n"
     ]
    }
   ],
   "source": [
    "y = model.predict(x)"
   ]
  },
  {
   "cell_type": "code",
   "execution_count": 93,
   "id": "8aafba0a",
   "metadata": {},
   "outputs": [
    {
     "data": {
      "text/plain": [
       "(100, 3, 10)"
      ]
     },
     "execution_count": 93,
     "metadata": {},
     "output_type": "execute_result"
    }
   ],
   "source": [
    "y.shape"
   ]
  },
  {
   "cell_type": "code",
   "execution_count": 95,
   "id": "387ba722",
   "metadata": {},
   "outputs": [
    {
     "data": {
      "text/plain": [
       "array([0.20500903, 0.48162064, 0.31447247, 0.38944683, 0.06641949,\n",
       "       0.59898378, 0.12307428, 0.83243876, 0.38165133, 0.75077187])"
      ]
     },
     "execution_count": 95,
     "metadata": {},
     "output_type": "execute_result"
    }
   ],
   "source": [
    "x[0]"
   ]
  },
  {
   "cell_type": "code",
   "execution_count": 96,
   "id": "416470ca",
   "metadata": {},
   "outputs": [
    {
     "data": {
      "text/plain": [
       "array([[0.20500903, 0.48162064, 0.31447247, 0.38944682, 0.06641949,\n",
       "        0.59898376, 0.12307428, 0.83243877, 0.38165134, 0.7507719 ],\n",
       "       [0.20500903, 0.48162064, 0.31447247, 0.38944682, 0.06641949,\n",
       "        0.59898376, 0.12307428, 0.83243877, 0.38165134, 0.7507719 ],\n",
       "       [0.20500903, 0.48162064, 0.31447247, 0.38944682, 0.06641949,\n",
       "        0.59898376, 0.12307428, 0.83243877, 0.38165134, 0.7507719 ]],\n",
       "      dtype=float32)"
      ]
     },
     "execution_count": 96,
     "metadata": {},
     "output_type": "execute_result"
    }
   ],
   "source": [
    "y[0]"
   ]
  },
  {
   "cell_type": "markdown",
   "id": "d5830c96",
   "metadata": {},
   "source": [
    "# end"
   ]
  }
 ],
 "metadata": {
  "kernelspec": {
   "display_name": "Python 3 (ipykernel)",
   "language": "python",
   "name": "python3"
  },
  "language_info": {
   "codemirror_mode": {
    "name": "ipython",
    "version": 3
   },
   "file_extension": ".py",
   "mimetype": "text/x-python",
   "name": "python",
   "nbconvert_exporter": "python",
   "pygments_lexer": "ipython3",
   "version": "3.10.6"
  }
 },
 "nbformat": 4,
 "nbformat_minor": 5
}
