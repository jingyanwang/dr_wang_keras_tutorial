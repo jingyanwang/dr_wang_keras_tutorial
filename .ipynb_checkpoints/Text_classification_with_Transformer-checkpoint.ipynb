{
 "cells": [
  {
   "cell_type": "markdown",
   "id": "a4d8404b",
   "metadata": {},
   "source": [
    "https://keras.io/examples/nlp/text_classification_with_transformer/"
   ]
  },
  {
   "cell_type": "code",
   "execution_count": 1,
   "id": "1c973792",
   "metadata": {},
   "outputs": [],
   "source": [
    "import tensorflow as tf"
   ]
  },
  {
   "cell_type": "code",
   "execution_count": 2,
   "id": "29987933",
   "metadata": {},
   "outputs": [],
   "source": [
    "import numpy as np"
   ]
  },
  {
   "cell_type": "code",
   "execution_count": 3,
   "id": "9bcc111b",
   "metadata": {},
   "outputs": [],
   "source": [
    "from tensorflow import keras\n",
    "from tensorflow.keras import layers"
   ]
  },
  {
   "cell_type": "markdown",
   "id": "173eaa45",
   "metadata": {},
   "source": [
    "# layer"
   ]
  },
  {
   "cell_type": "code",
   "execution_count": 4,
   "id": "bd48f437",
   "metadata": {},
   "outputs": [],
   "source": [
    "class TransformerBlock(\n",
    "    layers.Layer,\n",
    "    ):\n",
    "    \n",
    "    def __init__(\n",
    "        self,\n",
    "        embed_dim,\n",
    "        num_heads,\n",
    "        ff_dim,\n",
    "        rate = 0.1,\n",
    "        ):\n",
    "        \n",
    "        super(TransformerBlock, self).__init__()\n",
    "        \n",
    "        self.att = layers.MultiHeadAttention(\n",
    "            num_heads = num_heads,\n",
    "            key_dim = embed_dim,\n",
    "            )\n",
    "        \n",
    "        self.ffn = keras.Sequential(\n",
    "            [\n",
    "                layers.Dense(\n",
    "                    ff_dim,\n",
    "                    activation=\"relu\",\n",
    "                ),\n",
    "                layers.Dense(\n",
    "                    ff_dim,\n",
    "                ),                \n",
    "            ]\n",
    "        )\n",
    "        \n",
    "        self.layernorm1 = layers.LayerNormalization(epsilon=1e-6)\n",
    "        self.layernorm2 = layers.LayerNormalization(epsilon=1e-6)\n",
    "        \n",
    "        self.dropout1 = layers.Dropout(rate)\n",
    "        self.dropout2 = layers.Dropout(rate)\n",
    "\n",
    "    def call(\n",
    "        self,\n",
    "        inputs,\n",
    "        training,\n",
    "        ):\n",
    "        \n",
    "        attn_output = self.att(inputs, inputs)\n",
    "        attn_output = self.dropout1(attn_output, training = training)      \n",
    "        \n",
    "        out1 = self.layernorm1(inputs + attn_output)\n",
    "        #print(out1.shape)\n",
    "        \n",
    "        ffn_output = self.ffn(out1)\n",
    "        ffn_output = self.dropout2(\n",
    "            ffn_output,\n",
    "            training=training\n",
    "        )       \n",
    "        \n",
    "                \n",
    "        return self.layernorm2(out1+ffn_output)"
   ]
  },
  {
   "cell_type": "code",
   "execution_count": 5,
   "id": "7c9edd33",
   "metadata": {},
   "outputs": [],
   "source": [
    "transformer_block = TransformerBlock(\n",
    "    embed_dim = 10,\n",
    "    num_heads = 2,\n",
    "    ff_dim = 10\n",
    "    )"
   ]
  },
  {
   "cell_type": "code",
   "execution_count": 6,
   "id": "28ba8e26",
   "metadata": {},
   "outputs": [
    {
     "data": {
      "text/plain": [
       "(3, 4, 10)"
      ]
     },
     "execution_count": 6,
     "metadata": {},
     "output_type": "execute_result"
    }
   ],
   "source": [
    "x = np.random.rand(\n",
    "    3, 4, 10\n",
    "    )\n",
    "\n",
    "x.shape"
   ]
  },
  {
   "cell_type": "code",
   "execution_count": 7,
   "id": "0b0b04d7",
   "metadata": {},
   "outputs": [],
   "source": [
    "y = transformer_block(x, training = False)"
   ]
  },
  {
   "cell_type": "code",
   "execution_count": 8,
   "id": "d1d3d3c4",
   "metadata": {},
   "outputs": [
    {
     "data": {
      "text/plain": [
       "TensorShape([3, 4, 10])"
      ]
     },
     "execution_count": 8,
     "metadata": {},
     "output_type": "execute_result"
    }
   ],
   "source": [
    "y.shape"
   ]
  },
  {
   "cell_type": "code",
   "execution_count": 9,
   "id": "55ad1aa5",
   "metadata": {},
   "outputs": [],
   "source": [
    "class TokenAndPositionEmbedding(\n",
    "    layers.Layer,\n",
    "    ):\n",
    "    \n",
    "    def __init__(\n",
    "        self,\n",
    "        maxlen,\n",
    "        vocab_size,\n",
    "        embed_dim,\n",
    "        ):\n",
    "        super(TokenAndPositionEmbedding, self).__init__()\n",
    "        \n",
    "        self.token_emb = layers.Embedding(\n",
    "            input_dim=vocab_size,\n",
    "            output_dim=embed_dim,\n",
    "            )\n",
    "        \n",
    "        self.pos_emb = layers.Embedding(\n",
    "            input_dim=maxlen,\n",
    "            output_dim=embed_dim,\n",
    "            )\n",
    "    \n",
    "    def call(self, x):\n",
    "        maxlen = tf.shape(x)[-1]\n",
    "        positions = tf.range(\n",
    "            start = 0, \n",
    "            limit = maxlen,\n",
    "            delta = 1,\n",
    "            )\n",
    "        positions = self.pos_emb(positions)\n",
    "        x = self.token_emb(x)\n",
    "        return x+positions"
   ]
  },
  {
   "cell_type": "code",
   "execution_count": 10,
   "id": "6a214469",
   "metadata": {},
   "outputs": [],
   "source": [
    "embedding_layer = TokenAndPositionEmbedding(\n",
    "    maxlen=3,\n",
    "    vocab_size=100,\n",
    "    embed_dim=10,\n",
    "    )"
   ]
  },
  {
   "cell_type": "code",
   "execution_count": 11,
   "id": "847de429",
   "metadata": {},
   "outputs": [],
   "source": [
    "x = np.random.randint(\n",
    "    100,\n",
    "    size = (5,3))\n",
    "\n",
    "y = embedding_layer(\n",
    "    x\n",
    "    )"
   ]
  },
  {
   "cell_type": "code",
   "execution_count": 12,
   "id": "639f304c",
   "metadata": {},
   "outputs": [
    {
     "data": {
      "text/plain": [
       "TensorShape([5, 3, 10])"
      ]
     },
     "execution_count": 12,
     "metadata": {},
     "output_type": "execute_result"
    }
   ],
   "source": [
    "y.shape"
   ]
  },
  {
   "cell_type": "markdown",
   "id": "32252242",
   "metadata": {},
   "source": [
    "# data"
   ]
  },
  {
   "cell_type": "code",
   "execution_count": 13,
   "id": "175e836e",
   "metadata": {},
   "outputs": [],
   "source": [
    "vocab_size = 20000\n",
    "maxlen = 200"
   ]
  },
  {
   "cell_type": "code",
   "execution_count": 14,
   "id": "25b4060b",
   "metadata": {},
   "outputs": [],
   "source": [
    "(x_train, y_train), (x_val, y_val) = keras.datasets.imdb.load_data(\n",
    "    num_words=vocab_size,\n",
    "    )"
   ]
  },
  {
   "cell_type": "code",
   "execution_count": 15,
   "id": "f8fc17fd",
   "metadata": {},
   "outputs": [
    {
     "data": {
      "text/plain": [
       "25000"
      ]
     },
     "execution_count": 15,
     "metadata": {},
     "output_type": "execute_result"
    }
   ],
   "source": [
    "len(x_train)"
   ]
  },
  {
   "cell_type": "code",
   "execution_count": 16,
   "id": "2eccc834",
   "metadata": {},
   "outputs": [
    {
     "data": {
      "text/plain": [
       "25000"
      ]
     },
     "execution_count": 16,
     "metadata": {},
     "output_type": "execute_result"
    }
   ],
   "source": [
    "len(x_val)"
   ]
  },
  {
   "cell_type": "markdown",
   "id": "0dcf514c",
   "metadata": {},
   "source": [
    "# padding"
   ]
  },
  {
   "cell_type": "code",
   "execution_count": 17,
   "id": "65faffd1",
   "metadata": {},
   "outputs": [],
   "source": [
    "x_train = keras.preprocessing.sequence.pad_sequences(\n",
    "    x_train,\n",
    "    maxlen = maxlen\n",
    "    )"
   ]
  },
  {
   "cell_type": "code",
   "execution_count": 18,
   "id": "359adbc3",
   "metadata": {},
   "outputs": [],
   "source": [
    "x_val = keras.preprocessing.sequence.pad_sequences(\n",
    "    x_val,\n",
    "    maxlen=maxlen,\n",
    "    )"
   ]
  },
  {
   "cell_type": "markdown",
   "id": "d3066424",
   "metadata": {},
   "source": [
    "# parameters"
   ]
  },
  {
   "cell_type": "code",
   "execution_count": 19,
   "id": "920ef028",
   "metadata": {},
   "outputs": [],
   "source": [
    "embed_dim = 32\n",
    "num_heads = 2\n",
    "ff_dim = 32"
   ]
  },
  {
   "cell_type": "markdown",
   "id": "813aebcd",
   "metadata": {},
   "source": [
    "# model"
   ]
  },
  {
   "cell_type": "code",
   "execution_count": 20,
   "id": "08819b77",
   "metadata": {},
   "outputs": [],
   "source": [
    "inputs = layers.Input(\n",
    "    shape=(maxlen,)\n",
    "    )"
   ]
  },
  {
   "cell_type": "code",
   "execution_count": 21,
   "id": "88dd9e33",
   "metadata": {},
   "outputs": [],
   "source": [
    "embedding_layer = TokenAndPositionEmbedding(\n",
    "    maxlen,\n",
    "    vocab_size,\n",
    "    embed_dim,\n",
    "    )"
   ]
  },
  {
   "cell_type": "code",
   "execution_count": 22,
   "id": "f535cf62",
   "metadata": {},
   "outputs": [],
   "source": [
    "transformer_block = TransformerBlock(\n",
    "    embed_dim,\n",
    "    num_heads,\n",
    "    ff_dim,\n",
    "    )"
   ]
  },
  {
   "cell_type": "code",
   "execution_count": 23,
   "id": "75965ea3",
   "metadata": {},
   "outputs": [],
   "source": [
    "x = embedding_layer(inputs)\n",
    "x = transformer_block(x)\n",
    "x = layers.GlobalAveragePooling1D()(x)\n",
    "x = layers.Dropout(0.1)(x)\n",
    "x = layers.Dense(20, activation=\"relu\")(x)\n",
    "x = layers.Dropout(0.1)(x)\n",
    "outputs = layers.Dense(2, activation= \"softmax\")(x)"
   ]
  },
  {
   "cell_type": "code",
   "execution_count": 24,
   "id": "290edd55",
   "metadata": {},
   "outputs": [],
   "source": [
    "model = keras.Model(\n",
    "    inputs = inputs,\n",
    "    outputs = outputs,\n",
    ")"
   ]
  },
  {
   "cell_type": "markdown",
   "id": "8892f3c2",
   "metadata": {},
   "source": [
    "# train"
   ]
  },
  {
   "cell_type": "code",
   "execution_count": 25,
   "id": "387ba722",
   "metadata": {},
   "outputs": [],
   "source": [
    "model.compile(\n",
    "    optimizer=\"adam\",\n",
    "    loss=\"sparse_categorical_crossentropy\",\n",
    "    metrics=[\"accuracy\"],\n",
    "    )"
   ]
  },
  {
   "cell_type": "code",
   "execution_count": 26,
   "id": "416470ca",
   "metadata": {},
   "outputs": [
    {
     "name": "stdout",
     "output_type": "stream",
     "text": [
      "Epoch 1/2\n",
      "782/782 [==============================] - 8s 9ms/step - loss: 0.3985 - accuracy: 0.8061 - val_loss: 0.2926 - val_accuracy: 0.8740\n",
      "Epoch 2/2\n",
      "782/782 [==============================] - 6s 8ms/step - loss: 0.2061 - accuracy: 0.9221 - val_loss: 0.3191 - val_accuracy: 0.8732\n"
     ]
    }
   ],
   "source": [
    "history = model.fit(\n",
    "    x_train,\n",
    "    y_train,\n",
    "    batch_size=32,\n",
    "    epochs=2,\n",
    "    validation_data=(x_val, y_val),\n",
    "    )"
   ]
  },
  {
   "cell_type": "markdown",
   "id": "920b68b7",
   "metadata": {},
   "source": [
    "# end"
   ]
  }
 ],
 "metadata": {
  "kernelspec": {
   "display_name": "Python 3 (ipykernel)",
   "language": "python",
   "name": "python3"
  },
  "language_info": {
   "codemirror_mode": {
    "name": "ipython",
    "version": 3
   },
   "file_extension": ".py",
   "mimetype": "text/x-python",
   "name": "python",
   "nbconvert_exporter": "python",
   "pygments_lexer": "ipython3",
   "version": "3.10.6"
  }
 },
 "nbformat": 4,
 "nbformat_minor": 5
}
