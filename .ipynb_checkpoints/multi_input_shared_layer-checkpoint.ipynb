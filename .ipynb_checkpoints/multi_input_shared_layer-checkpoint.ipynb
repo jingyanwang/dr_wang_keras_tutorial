{
 "cells": [
  {
   "cell_type": "code",
   "execution_count": 5,
   "id": "24a3ba32",
   "metadata": {},
   "outputs": [],
   "source": [
    "from tensorflow.keras import layers"
   ]
  },
  {
   "cell_type": "code",
   "execution_count": 6,
   "id": "516b916b",
   "metadata": {},
   "outputs": [],
   "source": [
    "from tensorflow.keras import Model"
   ]
  },
  {
   "cell_type": "code",
   "execution_count": 13,
   "id": "8d18fd5a",
   "metadata": {},
   "outputs": [],
   "source": [
    "import numpy as np"
   ]
  },
  {
   "cell_type": "code",
   "execution_count": 3,
   "id": "2c7bae0c",
   "metadata": {},
   "outputs": [],
   "source": [
    "d = layers.Dense(units = 2)"
   ]
  },
  {
   "cell_type": "code",
   "execution_count": 7,
   "id": "dff6d6ca",
   "metadata": {},
   "outputs": [],
   "source": [
    "input1 = layers.Input(shape = (3,))\n",
    "input2 = layers.Input(shape = (3,))"
   ]
  },
  {
   "cell_type": "code",
   "execution_count": 10,
   "id": "6b47b52d",
   "metadata": {},
   "outputs": [],
   "source": [
    "x = d(input1)\n",
    "z = d(input2)\n",
    "y = layers.Concatenate()([x,z])"
   ]
  },
  {
   "cell_type": "code",
   "execution_count": 11,
   "id": "a9cbd815",
   "metadata": {},
   "outputs": [],
   "source": [
    "m = Model(inputs = [input1, input2], outputs = y)"
   ]
  },
  {
   "cell_type": "code",
   "execution_count": 12,
   "id": "7ee5a4bf",
   "metadata": {},
   "outputs": [
    {
     "name": "stdout",
     "output_type": "stream",
     "text": [
      "Model: \"model_1\"\n",
      "__________________________________________________________________________________________________\n",
      " Layer (type)                   Output Shape         Param #     Connected to                     \n",
      "==================================================================================================\n",
      " input_1 (InputLayer)           [(None, 3)]          0           []                               \n",
      "                                                                                                  \n",
      " input_2 (InputLayer)           [(None, 3)]          0           []                               \n",
      "                                                                                                  \n",
      " dense (Dense)                  (None, 2)            8           ['input_1[0][0]',                \n",
      "                                                                  'input_2[0][0]']                \n",
      "                                                                                                  \n",
      " concatenate_1 (Concatenate)    (None, 4)            0           ['dense[2][0]',                  \n",
      "                                                                  'dense[3][0]']                  \n",
      "                                                                                                  \n",
      "==================================================================================================\n",
      "Total params: 8\n",
      "Trainable params: 8\n",
      "Non-trainable params: 0\n",
      "__________________________________________________________________________________________________\n"
     ]
    }
   ],
   "source": [
    "m.summary()"
   ]
  },
  {
   "cell_type": "code",
   "execution_count": 17,
   "id": "adc0fd96",
   "metadata": {},
   "outputs": [],
   "source": [
    "x1 = np.ones(shape= (2,3))\n",
    "x2 = np.ones(shape= (2,3))"
   ]
  },
  {
   "cell_type": "code",
   "execution_count": 25,
   "id": "09c93aed",
   "metadata": {},
   "outputs": [],
   "source": [
    "x1 = np.random.rand(2,3)\n",
    "x2 = np.random.rand(2,3)"
   ]
  },
  {
   "cell_type": "code",
   "execution_count": 26,
   "id": "4887980c",
   "metadata": {},
   "outputs": [
    {
     "name": "stdout",
     "output_type": "stream",
     "text": [
      "1/1 [==============================] - 0s 17ms/step\n"
     ]
    }
   ],
   "source": [
    "y = m.predict([x1,x2])"
   ]
  },
  {
   "cell_type": "code",
   "execution_count": 27,
   "id": "8b1676d2",
   "metadata": {},
   "outputs": [
    {
     "data": {
      "text/plain": [
       "array([[-0.08636999, -1.4578965 , -0.6525352 , -0.9091092 ],\n",
       "       [-0.30023202, -0.67972726, -0.30430532, -0.7219267 ]],\n",
       "      dtype=float32)"
      ]
     },
     "execution_count": 27,
     "metadata": {},
     "output_type": "execute_result"
    }
   ],
   "source": [
    "y"
   ]
  }
 ],
 "metadata": {
  "kernelspec": {
   "display_name": "Python 3 (ipykernel)",
   "language": "python",
   "name": "python3"
  },
  "language_info": {
   "codemirror_mode": {
    "name": "ipython",
    "version": 3
   },
   "file_extension": ".py",
   "mimetype": "text/x-python",
   "name": "python",
   "nbconvert_exporter": "python",
   "pygments_lexer": "ipython3",
   "version": "3.10.6"
  }
 },
 "nbformat": 4,
 "nbformat_minor": 5
}
