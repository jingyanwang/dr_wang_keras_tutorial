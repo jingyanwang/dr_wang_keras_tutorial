{
 "cells": [
  {
   "cell_type": "code",
   "execution_count": 1,
   "id": "71f3debc",
   "metadata": {},
   "outputs": [
    {
     "name": "stdout",
     "output_type": "stream",
     "text": [
      "Requirement already satisfied: keras_nlp in c:\\users\\jimwa\\appdata\\local\\programs\\python\\python310\\lib\\site-packages (0.3.0)\n",
      "Requirement already satisfied: absl-py in c:\\users\\jimwa\\appdata\\local\\programs\\python\\python310\\lib\\site-packages (from keras_nlp) (1.2.0)\n",
      "Requirement already satisfied: packaging in c:\\users\\jimwa\\appdata\\local\\programs\\python\\python310\\lib\\site-packages (from keras_nlp) (21.3)\n",
      "Requirement already satisfied: numpy in c:\\users\\jimwa\\appdata\\local\\programs\\python\\python310\\lib\\site-packages (from keras_nlp) (1.23.1)\n",
      "Requirement already satisfied: tensorflow in c:\\users\\jimwa\\appdata\\local\\programs\\python\\python310\\lib\\site-packages (from keras_nlp) (2.9.1)\n",
      "Requirement already satisfied: tensorflow-text in c:\\users\\jimwa\\appdata\\local\\programs\\python\\python310\\lib\\site-packages (from keras_nlp) (2.9.0)\n",
      "Requirement already satisfied: pyparsing!=3.0.5,>=2.0.2 in c:\\users\\jimwa\\appdata\\local\\programs\\python\\python310\\lib\\site-packages (from packaging->keras_nlp) (3.0.9)\n",
      "Requirement already satisfied: tensorflow-io-gcs-filesystem>=0.23.1 in c:\\users\\jimwa\\appdata\\local\\programs\\python\\python310\\lib\\site-packages (from tensorflow->keras_nlp) (0.26.0)\n",
      "Requirement already satisfied: grpcio<2.0,>=1.24.3 in c:\\users\\jimwa\\appdata\\local\\programs\\python\\python310\\lib\\site-packages (from tensorflow->keras_nlp) (1.47.0)\n",
      "Requirement already satisfied: flatbuffers<2,>=1.12 in c:\\users\\jimwa\\appdata\\local\\programs\\python\\python310\\lib\\site-packages (from tensorflow->keras_nlp) (1.12)\n",
      "Requirement already satisfied: google-pasta>=0.1.1 in c:\\users\\jimwa\\appdata\\local\\programs\\python\\python310\\lib\\site-packages (from tensorflow->keras_nlp) (0.2.0)\n",
      "Requirement already satisfied: typing-extensions>=3.6.6 in c:\\users\\jimwa\\appdata\\local\\programs\\python\\python310\\lib\\site-packages (from tensorflow->keras_nlp) (4.3.0)\n",
      "Requirement already satisfied: termcolor>=1.1.0 in c:\\users\\jimwa\\appdata\\local\\programs\\python\\python310\\lib\\site-packages (from tensorflow->keras_nlp) (1.1.0)\n",
      "Requirement already satisfied: six>=1.12.0 in c:\\users\\jimwa\\appdata\\local\\programs\\python\\python310\\lib\\site-packages (from tensorflow->keras_nlp) (1.16.0)\n",
      "Requirement already satisfied: tensorflow-estimator<2.10.0,>=2.9.0rc0 in c:\\users\\jimwa\\appdata\\local\\programs\\python\\python310\\lib\\site-packages (from tensorflow->keras_nlp) (2.9.0)\n",
      "Requirement already satisfied: tensorboard<2.10,>=2.9 in c:\\users\\jimwa\\appdata\\local\\programs\\python\\python310\\lib\\site-packages (from tensorflow->keras_nlp) (2.9.1)\n",
      "Requirement already satisfied: gast<=0.4.0,>=0.2.1 in c:\\users\\jimwa\\appdata\\local\\programs\\python\\python310\\lib\\site-packages (from tensorflow->keras_nlp) (0.4.0)\n",
      "Requirement already satisfied: protobuf<3.20,>=3.9.2 in c:\\users\\jimwa\\appdata\\local\\programs\\python\\python310\\lib\\site-packages (from tensorflow->keras_nlp) (3.19.4)\n",
      "Requirement already satisfied: h5py>=2.9.0 in c:\\users\\jimwa\\appdata\\local\\programs\\python\\python310\\lib\\site-packages (from tensorflow->keras_nlp) (3.7.0)\n",
      "Requirement already satisfied: libclang>=13.0.0 in c:\\users\\jimwa\\appdata\\local\\programs\\python\\python310\\lib\\site-packages (from tensorflow->keras_nlp) (14.0.6)\n",
      "Requirement already satisfied: keras-preprocessing>=1.1.1 in c:\\users\\jimwa\\appdata\\local\\programs\\python\\python310\\lib\\site-packages (from tensorflow->keras_nlp) (1.1.2)\n",
      "Requirement already satisfied: setuptools in c:\\users\\jimwa\\appdata\\local\\programs\\python\\python310\\lib\\site-packages (from tensorflow->keras_nlp) (63.2.0)\n",
      "Requirement already satisfied: wrapt>=1.11.0 in c:\\users\\jimwa\\appdata\\local\\programs\\python\\python310\\lib\\site-packages (from tensorflow->keras_nlp) (1.14.1)\n",
      "Requirement already satisfied: astunparse>=1.6.0 in c:\\users\\jimwa\\appdata\\local\\programs\\python\\python310\\lib\\site-packages (from tensorflow->keras_nlp) (1.6.3)\n",
      "Requirement already satisfied: opt-einsum>=2.3.2 in c:\\users\\jimwa\\appdata\\local\\programs\\python\\python310\\lib\\site-packages (from tensorflow->keras_nlp) (3.3.0)\n",
      "Requirement already satisfied: keras<2.10.0,>=2.9.0rc0 in c:\\users\\jimwa\\appdata\\local\\programs\\python\\python310\\lib\\site-packages (from tensorflow->keras_nlp) (2.9.0)\n",
      "Requirement already satisfied: tensorflow-hub>=0.8.0 in c:\\users\\jimwa\\appdata\\local\\programs\\python\\python310\\lib\\site-packages (from tensorflow-text->keras_nlp) (0.12.0)\n",
      "Requirement already satisfied: wheel<1.0,>=0.23.0 in c:\\users\\jimwa\\appdata\\local\\programs\\python\\python310\\lib\\site-packages (from astunparse>=1.6.0->tensorflow->keras_nlp) (0.37.1)\n",
      "Requirement already satisfied: tensorboard-plugin-wit>=1.6.0 in c:\\users\\jimwa\\appdata\\local\\programs\\python\\python310\\lib\\site-packages (from tensorboard<2.10,>=2.9->tensorflow->keras_nlp) (1.8.1)\n",
      "Requirement already satisfied: markdown>=2.6.8 in c:\\users\\jimwa\\appdata\\local\\programs\\python\\python310\\lib\\site-packages (from tensorboard<2.10,>=2.9->tensorflow->keras_nlp) (3.4.1)\n",
      "Requirement already satisfied: requests<3,>=2.21.0 in c:\\users\\jimwa\\appdata\\local\\programs\\python\\python310\\lib\\site-packages (from tensorboard<2.10,>=2.9->tensorflow->keras_nlp) (2.28.1)\n",
      "Requirement already satisfied: google-auth-oauthlib<0.5,>=0.4.1 in c:\\users\\jimwa\\appdata\\local\\programs\\python\\python310\\lib\\site-packages (from tensorboard<2.10,>=2.9->tensorflow->keras_nlp) (0.4.6)\n",
      "Requirement already satisfied: werkzeug>=1.0.1 in c:\\users\\jimwa\\appdata\\local\\programs\\python\\python310\\lib\\site-packages (from tensorboard<2.10,>=2.9->tensorflow->keras_nlp) (2.2.2)\n",
      "Requirement already satisfied: google-auth<3,>=1.6.3 in c:\\users\\jimwa\\appdata\\local\\programs\\python\\python310\\lib\\site-packages (from tensorboard<2.10,>=2.9->tensorflow->keras_nlp) (2.10.0)\n",
      "Requirement already satisfied: tensorboard-data-server<0.7.0,>=0.6.0 in c:\\users\\jimwa\\appdata\\local\\programs\\python\\python310\\lib\\site-packages (from tensorboard<2.10,>=2.9->tensorflow->keras_nlp) (0.6.1)\n",
      "Requirement already satisfied: pyasn1-modules>=0.2.1 in c:\\users\\jimwa\\appdata\\local\\programs\\python\\python310\\lib\\site-packages (from google-auth<3,>=1.6.3->tensorboard<2.10,>=2.9->tensorflow->keras_nlp) (0.2.8)\n",
      "Requirement already satisfied: cachetools<6.0,>=2.0.0 in c:\\users\\jimwa\\appdata\\local\\programs\\python\\python310\\lib\\site-packages (from google-auth<3,>=1.6.3->tensorboard<2.10,>=2.9->tensorflow->keras_nlp) (5.2.0)\n",
      "Requirement already satisfied: rsa<5,>=3.1.4 in c:\\users\\jimwa\\appdata\\local\\programs\\python\\python310\\lib\\site-packages (from google-auth<3,>=1.6.3->tensorboard<2.10,>=2.9->tensorflow->keras_nlp) (4.9)\n",
      "Requirement already satisfied: requests-oauthlib>=0.7.0 in c:\\users\\jimwa\\appdata\\local\\programs\\python\\python310\\lib\\site-packages (from google-auth-oauthlib<0.5,>=0.4.1->tensorboard<2.10,>=2.9->tensorflow->keras_nlp) (1.3.1)\n",
      "Requirement already satisfied: idna<4,>=2.5 in c:\\users\\jimwa\\appdata\\local\\programs\\python\\python310\\lib\\site-packages (from requests<3,>=2.21.0->tensorboard<2.10,>=2.9->tensorflow->keras_nlp) (3.3)\n",
      "Requirement already satisfied: urllib3<1.27,>=1.21.1 in c:\\users\\jimwa\\appdata\\local\\programs\\python\\python310\\lib\\site-packages (from requests<3,>=2.21.0->tensorboard<2.10,>=2.9->tensorflow->keras_nlp) (1.26.11)\n",
      "Requirement already satisfied: charset-normalizer<3,>=2 in c:\\users\\jimwa\\appdata\\local\\programs\\python\\python310\\lib\\site-packages (from requests<3,>=2.21.0->tensorboard<2.10,>=2.9->tensorflow->keras_nlp) (2.1.0)\n",
      "Requirement already satisfied: certifi>=2017.4.17 in c:\\users\\jimwa\\appdata\\local\\programs\\python\\python310\\lib\\site-packages (from requests<3,>=2.21.0->tensorboard<2.10,>=2.9->tensorflow->keras_nlp) (2022.6.15)\n",
      "Requirement already satisfied: MarkupSafe>=2.1.1 in c:\\users\\jimwa\\appdata\\local\\programs\\python\\python310\\lib\\site-packages (from werkzeug>=1.0.1->tensorboard<2.10,>=2.9->tensorflow->keras_nlp) (2.1.1)\n",
      "Requirement already satisfied: pyasn1<0.5.0,>=0.4.6 in c:\\users\\jimwa\\appdata\\local\\programs\\python\\python310\\lib\\site-packages (from pyasn1-modules>=0.2.1->google-auth<3,>=1.6.3->tensorboard<2.10,>=2.9->tensorflow->keras_nlp) (0.4.8)\n",
      "Requirement already satisfied: oauthlib>=3.0.0 in c:\\users\\jimwa\\appdata\\local\\programs\\python\\python310\\lib\\site-packages (from requests-oauthlib>=0.7.0->google-auth-oauthlib<0.5,>=0.4.1->tensorboard<2.10,>=2.9->tensorflow->keras_nlp) (3.2.0)\n"
     ]
    },
    {
     "name": "stderr",
     "output_type": "stream",
     "text": [
      "\n",
      "[notice] A new release of pip available: 22.2.1 -> 22.2.2\n",
      "[notice] To update, run: python.exe -m pip install --upgrade pip\n"
     ]
    }
   ],
   "source": [
    "!pip install keras_nlp"
   ]
  },
  {
   "cell_type": "code",
   "execution_count": 2,
   "id": "4b01690c",
   "metadata": {},
   "outputs": [],
   "source": [
    "from keras_nlp import layers"
   ]
  },
  {
   "cell_type": "code",
   "execution_count": 3,
   "id": "20481a74",
   "metadata": {},
   "outputs": [],
   "source": [
    "encoder = layers.TransformerEncoder(\n",
    "    intermediate_dim=128,\n",
    "    num_heads=8,\n",
    "    )"
   ]
  },
  {
   "cell_type": "code",
   "execution_count": 4,
   "id": "b0e56691",
   "metadata": {},
   "outputs": [],
   "source": [
    "from tensorflow import keras"
   ]
  },
  {
   "cell_type": "code",
   "execution_count": 5,
   "id": "27aa8b2f",
   "metadata": {},
   "outputs": [],
   "source": [
    "input = keras.layers.Input(\n",
    "    shape = (10,64)\n",
    "    )"
   ]
  },
  {
   "cell_type": "code",
   "execution_count": 6,
   "id": "f818547c",
   "metadata": {},
   "outputs": [],
   "source": [
    "output = encoder(input)"
   ]
  },
  {
   "cell_type": "code",
   "execution_count": 7,
   "id": "b31782dd",
   "metadata": {},
   "outputs": [],
   "source": [
    "model = keras.Model(\n",
    "    input,\n",
    "    output,\n",
    "    )"
   ]
  },
  {
   "cell_type": "code",
   "execution_count": 8,
   "id": "38a73c3c",
   "metadata": {},
   "outputs": [],
   "source": [
    "import tensorflow as tf"
   ]
  },
  {
   "cell_type": "code",
   "execution_count": 9,
   "id": "c3a4ad1a",
   "metadata": {},
   "outputs": [],
   "source": [
    "x = tf.random.uniform(\n",
    "    shape=(7, 10, 64)\n",
    "    )"
   ]
  },
  {
   "cell_type": "code",
   "execution_count": 10,
   "id": "b5318625",
   "metadata": {},
   "outputs": [
    {
     "data": {
      "text/plain": [
       "TensorShape([7, 10, 64])"
      ]
     },
     "execution_count": 10,
     "metadata": {},
     "output_type": "execute_result"
    }
   ],
   "source": [
    "x.shape"
   ]
  },
  {
   "cell_type": "code",
   "execution_count": 11,
   "id": "88bae7e2",
   "metadata": {},
   "outputs": [
    {
     "name": "stdout",
     "output_type": "stream",
     "text": [
      "1/1 [==============================] - 1s 864ms/step\n"
     ]
    }
   ],
   "source": [
    "y = model.predict(x)"
   ]
  },
  {
   "cell_type": "code",
   "execution_count": 12,
   "id": "051cd7b1",
   "metadata": {},
   "outputs": [
    {
     "data": {
      "text/plain": [
       "(7, 10, 64)"
      ]
     },
     "execution_count": 12,
     "metadata": {},
     "output_type": "execute_result"
    }
   ],
   "source": [
    "y.shape"
   ]
  }
 ],
 "metadata": {
  "kernelspec": {
   "display_name": "Python 3 (ipykernel)",
   "language": "python",
   "name": "python3"
  },
  "language_info": {
   "codemirror_mode": {
    "name": "ipython",
    "version": 3
   },
   "file_extension": ".py",
   "mimetype": "text/x-python",
   "name": "python",
   "nbconvert_exporter": "python",
   "pygments_lexer": "ipython3",
   "version": "3.10.6"
  }
 },
 "nbformat": 4,
 "nbformat_minor": 5
}
